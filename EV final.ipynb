{
 "cells": [
  {
   "cell_type": "code",
   "execution_count": 26,
   "id": "f3a848aa",
   "metadata": {},
   "outputs": [],
   "source": [
    "import pandas as pd\n",
    "import numpy as np\n",
    "import yfinance as yf\n",
    "import re\n",
    "from fuzzywuzzy import fuzz"
   ]
  },
  {
   "cell_type": "code",
   "execution_count": 27,
   "id": "c3be941b",
   "metadata": {},
   "outputs": [],
   "source": [
    "def process_df(x):\n",
    "    columns = x.iloc[0,:]\n",
    "    columns.name = \"\"\n",
    "    x.columns = columns\n",
    "    x = x.iloc[1:,:]\n",
    "    x.reset_index(drop=True, names=columns, inplace=True)\n",
    "    x.rename(index={\"6\":\"\"}).head(7)\n",
    "    return x\n",
    "\n",
    "\n",
    "def get_working_capital(zone=\"\"):\n",
    "    path = \"data_damodaran/cash_flow_estimation/working_capital/wcdata\" + zone + \".xls\"\n",
    "    x = pd.read_excel(path, sheet_name=None)\n",
    "    x = x[\"Industry Averages\"]\n",
    "    loc = x[x.iloc[:,0] == \"Advertising\"].index.values[0] - 1\n",
    "    x = x.iloc[loc:,:]\n",
    "    x = process_df(x)\n",
    "    x = x.set_index(\"Industry Name\")\n",
    "    return x\n",
    "\n",
    "def get_growth_historical(zone=\"\"):\n",
    "    path = \"data_damodaran/growth/historical_growth/histgr\" + zone + \".xls\"\n",
    "    x = pd.read_excel(path, sheet_name=None)\n",
    "    x = x[\"Industry Averages\"]\n",
    "    loc = x[x.iloc[:,0] == \"Advertising\"].index.values[0] - 1\n",
    "    x = x.iloc[loc:,:]\n",
    "    x = process_df(x)\n",
    "    x = x.set_index(\"Industry Name\")\n",
    "    return x\n",
    "\n",
    "def get_capex(zone=\"\"):\n",
    "    path = \"data_damodaran/cash_flow_estimation/CAPEX/capex\" + zone + \".xls\"\n",
    "    x = pd.read_excel(path, sheet_name=None)\n",
    "    x = x[\"Industry Averages\"]\n",
    "    loc = x[x.iloc[:,0] == \"Advertising\"].index.values[0] - 1\n",
    "    x = x.iloc[loc:,:]\n",
    "    x = process_df(x)\n",
    "    x = x.set_index(\"Industry Name\")\n",
    "    return x\n",
    "\n",
    "\n",
    "def get_taxrates(zone=\"\"):\n",
    "    path = \"data_damodaran/discount_rate_estimation/tax/tax_rate_country/taxrate\" + zone + \".xls\"\n",
    "    x = pd.read_excel(path, sheet_name=None)\n",
    "    x = x[\"Industry Averages\"]\n",
    "    loc = x[x.iloc[:,0] == \"Advertising\"].index.values[0] - 1\n",
    "    x = x.iloc[loc:,:]\n",
    "    x = process_df(x)\n",
    "    x = x.set_index(\"Industry name\")\n",
    "    return x\n",
    "\n",
    "\n",
    "def get_growth_ebit(zone=\"\"):\n",
    "    path = \"data_damodaran/growth/growth_ebit/fundgrEB\" + zone + \".xls\"\n",
    "    x = pd.read_excel(path, sheet_name=None)\n",
    "    x = x[\"Industry Averages\"]\n",
    "    loc = x[x.iloc[:,0] == \"Advertising\"].index.values[0] - 1\n",
    "    x = x.iloc[loc:,:]\n",
    "    x = process_df(x)\n",
    "    x = x.set_index(\"Industry Name\")\n",
    "    return x\n",
    "\n",
    "\n",
    "\n",
    "\n",
    "def get_betas(zone=\"\"):\n",
    "    path = \"data_damodaran/discount_rate_estimation/beta_damodaran/totalbeta\" + zone + \".xls\"\n",
    "    x = pd.read_excel(path, sheet_name=None)\n",
    "    x = x[\"Industry Averages\"]\n",
    "    loc = x[x.iloc[:,0] == \"Advertising\"].index.values[0] - 1\n",
    "    x = x.iloc[loc:,:]\n",
    "    x = process_df(x)\n",
    "    x = x.set_index(\"Industry Name\")\n",
    "    return x\n",
    "\n",
    "def get_unleveraged_betas(zone=\"\"):\n",
    "    path = \"data_damodaran/discount_rate_estimation/beta_leverage/beta\" + zone + \".xls\"\n",
    "    x = pd.read_excel(path, sheet_name=None)\n",
    "    x = x[\"Industry Averages\"]\n",
    "    loc = x[x.iloc[:,0] == \"Advertising\"].index.values[0] - 1\n",
    "    x = x.iloc[loc:,:]\n",
    "    x = process_df(x)\n",
    "    x = x.set_index(\"Industry Name\")\n",
    "    return x\n",
    "\n",
    "def get_taxrates(zone=\"\"):\n",
    "    path = \"data_damodaran/discount_rate_estimation/tax/tax_rate_country/taxrate\" + zone + \".xls\"\n",
    "    x = pd.read_excel(path, sheet_name=None)\n",
    "    x = x[\"Industry Averages\"]\n",
    "    loc = x[x.iloc[:,0] == \"Advertising\"].index.values[0] - 1\n",
    "    x = x.iloc[loc:,:]\n",
    "    x = process_df(x)\n",
    "    x = x.set_index(\"Industry name\")\n",
    "    return x\n",
    "\n",
    "def get_wacc(zone=\"\"):\n",
    "    path = \"data_damodaran/discount_rate_estimation/wacc_damodaran/wacc\" + zone + \".xls\"\n",
    "    x = pd.read_excel(path, sheet_name=None)\n",
    "    x = x[\"Industry Averages\"]\n",
    "    loc = x[x.iloc[:,0] == \"Advertising\"].index.values[0] - 1\n",
    "    x = x.iloc[loc:,:]\n",
    "    x = process_df(x)\n",
    "    x = x.set_index(\"Industry Name\")\n",
    "    return x\n",
    "\n",
    "def get_spread_classifier(size=5e9, financial=False):\n",
    "    path = \"data_damodaran/capital_structure/spread_classifiers/ratings.xls\"\n",
    "    x = pd.read_excel(path, sheet_name=None)\n",
    "    x = x[\"Start here Ratings sheet\"]\n",
    "    moody = process_df(x.iloc[16:32,:4])\n",
    "    moody_financefirms = process_df(x.iloc[16:,5:9])\n",
    "    moody_smallfirms = process_df(x.iloc[35:,:4])\n",
    "    \n",
    "    if financial == True:\n",
    "        return moody_financefirms\n",
    "    else:\n",
    "        if size >= 5e9:\n",
    "            return moody\n",
    "        else: \n",
    "            return moody_smallfirms\n",
    "        \n",
    "        \n",
    "def get_10y_tbills():\n",
    "    path = \"data_damodaran/discount_rate_estimation/treasury_bills/histretSP.xls\"\n",
    "    x = pd.read_excel(path, sheet_name=None)\n",
    "    x = x[\"T. Bond yield & return\"]\n",
    "    x = x.iloc[5:,:]\n",
    "    x = process_df(x)\n",
    "    return x\n",
    "\n",
    "def get_moody_spread(x, size=5e9, financial=False):\n",
    "    for i in range(len(get_spread_classifier(size,financial=financial))):\n",
    "        if x <= get_spread_classifier(size,financial=financial).iloc[i,1]:\n",
    "            return get_spread_classifier(size,financial=financial).iloc[i,-1]\n",
    "        else:\n",
    "            continue\n",
    "    return get_spread_classifier(size,financial=financial).iloc[-1,-1]\n",
    "\n",
    "\n",
    "def get_risk_premium():\n",
    "    path = \"data_damodaran/discount_rate_estimation/risk_premium/ctrypremJuly23.xls\"\n",
    "    x = pd.read_excel(path, sheet_name=None)\n",
    "    x = x[\"ERPs by country\"]\n",
    "    x = x.iloc[5:163,:9]\n",
    "    x = process_df(x)\n",
    "    x = x.set_index(\"Country\")\n",
    "    return x\n",
    "\n",
    "def get_gdp_growth(ticket, n):\n",
    "    path = \"Database/GDP by Country 1999-2022.csv\"\n",
    "    x = pd.read_csv(path)#, sheet_name=None)\n",
    "    x.dropna(inplace=True)\n",
    "    x = x.T\n",
    "    x.columns = x.iloc[0,:]\n",
    "    x = x.drop(\"Country\")\n",
    "    for i in x:\n",
    "        x[i] = x[i].apply(lambda x: x.replace(\",\",\"\"))\n",
    "    x = x.astype(\"float\")\n",
    "    x = x.apply(lambda x: x.pct_change())\n",
    "    x = x.iloc[-n:,:]\n",
    "    x = np.exp(np.log(x).mean())  # We use geometric mean to deal with outliers\n",
    "    \n",
    "    country = yf.Ticker(ticket).info[\"country\"]\n",
    "    \n",
    "    return x.loc[country]\n",
    "\n",
    "def get_industry(ticket):\n",
    "    ls = []\n",
    "    ind = yf.Ticker(ticket).info.get(\"industry\")\n",
    "    for i in industries:\n",
    "        ls.append([fuzz.ratio(ind, i),i])\n",
    "    return pd.DataFrame(ls).sort_values(0, ascending=False).iloc[0,1]\n",
    "\n",
    "sp500_list = pd.read_csv(\"Database/SP500.csv\")[\"Symbol\"]\n",
    "industries = list(get_betas().index)\n"
   ]
  },
  {
   "cell_type": "markdown",
   "id": "5e3a48d9",
   "metadata": {},
   "source": [
    "## Free Cash Flow"
   ]
  },
  {
   "cell_type": "code",
   "execution_count": 69,
   "id": "36410d91",
   "metadata": {},
   "outputs": [
    {
     "data": {
      "text/plain": [
       "1   -1.744706e+10\n",
       "2   -9.440557e+09\n",
       "3    1.955566e+09\n",
       "4    1.798344e+10\n",
       "5    4.033465e+10\n",
       "dtype: float64"
      ]
     },
     "execution_count": 69,
     "metadata": {},
     "output_type": "execute_result"
    }
   ],
   "source": [
    "def freecashflow(ticket, sector,n=4):\n",
    "    x = yf.Ticker(ticket)\n",
    "    ebit = x.income_stmt.loc[\"EBIT\",:].sort_index()\n",
    "    g_ebit = get_growth_ebit(\"\").loc[sector,\"Expected Growth in EBIT\"]\n",
    "    if ebit.iloc[-1] < 0:\n",
    "        ebit_forecast = pd.Series([ebit.iloc[-n:].mean()*((1+g_ebit)**i) for i in range(n+1)], index=range(0,n+1))[1:]\n",
    "    else:\n",
    "        ebit_forecast = pd.Series([ebit.iloc[-1]*((1+g_ebit)**i) for i in range(n+1)], index=range(0,n+1))[1:]\n",
    "    tax_rate = get_taxrates(\"\").loc[sector, \"Average across only money-making companies\"]\n",
    "\n",
    "    usa_ktn_percentage = get_working_capital(\"\").loc[sector,\"Non-cash WC/ Sales\"]\n",
    "    sales_growth_2y = get_growth_historical(\"\").loc[sector,\"Expected Growth in Revenues - Next 2 years\"]\n",
    "    g_sales = (1+sales_growth_2y)**(1/2)-1\n",
    "\n",
    "    sales = x.incomestmt.loc[\"Total Revenue\",:].sort_index()\n",
    "    sales_forecast = pd.Series([sales.iloc[-1]*((1+g_sales)**i) for i in range(n+1)], index=range(0,n+1))\n",
    "    sales_forecast\n",
    "\n",
    "    ktn_forecast = sales_forecast * usa_ktn_percentage\n",
    "    ktn_delta_forecast = ktn_forecast.diff()[1:]\n",
    "\n",
    "    capex_vs_sales = get_capex(\"\").loc[sector, \"Net Cap Ex/Sales\"]\n",
    "    capex_net = (sales_forecast * capex_vs_sales)[1:]\n",
    "\n",
    "\n",
    "    return ebit_forecast*(1-tax_rate) - capex_net - ktn_delta_forecast\n",
    "\n",
    "\n",
    "freecashflow(\"AMZN\", \"Retail (Online)\",5)"
   ]
  },
  {
   "cell_type": "markdown",
   "id": "94d9b8e5",
   "metadata": {},
   "source": [
    "## WACC"
   ]
  },
  {
   "cell_type": "code",
   "execution_count": 50,
   "id": "c9c67ddb",
   "metadata": {},
   "outputs": [
    {
     "name": "stderr",
     "output_type": "stream",
     "text": [
      "/Users/leonplaza/miniconda3/lib/python3.11/site-packages/openpyxl/worksheet/_reader.py:329: UserWarning: Data Validation extension is not supported and will be removed\n",
      "  warn(msg)\n"
     ]
    },
    {
     "data": {
      "text/plain": [
       "0.10096140142386192"
      ]
     },
     "execution_count": 50,
     "metadata": {},
     "output_type": "execute_result"
    }
   ],
   "source": [
    "def wacc(ticket,sector):\n",
    "    x = yf.Ticker(ticket)\n",
    "    E = x.balancesheet.loc[\"Stockholders Equity\",:].iloc[0]\n",
    "    D = x.balancesheet.loc[\"Total Liabilities Net Minority Interest\",:].iloc[0]\n",
    "    \n",
    "    rf = get_10y_tbills().iloc[-1,1]\n",
    "    rd = get_wacc().loc[sector,\"Cost of Debt\"]\n",
    "    \n",
    "    interest = x.incomestmt.loc[\"Interest Expense\",:]\n",
    "    ebit = x.incomestmt.loc[\"EBIT\",:]\n",
    "    coverage_ratio = ebit / interest\n",
    "    spread = get_moody_spread(coverage_ratio.iloc[-1])\n",
    "    rd = rf + spread\n",
    "    \n",
    "    tax_rate = get_taxrates(\"\").loc[sector, \"Average across only money-making companies\"]\n",
    "    beta_u = get_unleveraged_betas().loc[sector,\"Unlevered beta\"]\n",
    "    beta = beta_u * (1 + (1-tax_rate)*D/E)\n",
    "    prm = get_risk_premium().loc[x.info[\"country\"],\"Total Equity Risk Premium\"]\n",
    "    re = rf + beta * prm\n",
    "    \n",
    "    wacc = rd*(1-tax_rate)*(D/(E+D)) + re*(E/(D+E))\n",
    "    return wacc\n",
    "\n",
    "wacc(\"MSFT\", \"Software (System & Application)\")\n"
   ]
  },
  {
   "cell_type": "code",
   "execution_count": 51,
   "id": "dfa6bd35",
   "metadata": {},
   "outputs": [
    {
     "data": {
      "text/plain": [
       "'United States'"
      ]
     },
     "execution_count": 51,
     "metadata": {},
     "output_type": "execute_result"
    }
   ],
   "source": [
    "yf.Ticker(\"MSFT\").info[\"country\"]"
   ]
  },
  {
   "cell_type": "code",
   "execution_count": 52,
   "id": "f5732f1c",
   "metadata": {},
   "outputs": [],
   "source": [
    "def EV(ticket,sector, n=4):\n",
    "    dcf = []\n",
    "    fcf_ls = freecashflow(ticket,sector,n)\n",
    "    wacc_ = wacc(ticket,sector)\n",
    "    g = get_gdp_growth(ticket,n)    \n",
    "\n",
    "    for i in range(1,n+1):\n",
    "        dcf.append(fcf_ls[i]/((1 + wacc_)**i))\n",
    "\n",
    "    VT = (fcf_ls.iloc[-1]*(1-g))/(wacc_ - g)\n",
    "\n",
    "    EV = sum(dcf) + VT\n",
    "    return EV"
   ]
  },
  {
   "cell_type": "code",
   "execution_count": 145,
   "id": "001f52da",
   "metadata": {},
   "outputs": [
    {
     "name": "stderr",
     "output_type": "stream",
     "text": [
      "/Users/leonplaza/miniconda3/lib/python3.11/site-packages/openpyxl/worksheet/_reader.py:329: UserWarning: Data Validation extension is not supported and will be removed\n",
      "  warn(msg)\n",
      "/Users/leonplaza/miniconda3/lib/python3.11/site-packages/pandas/core/internals/blocks.py:366: RuntimeWarning: invalid value encountered in log\n",
      "  result = func(self.values, **kwargs)\n",
      "/Users/leonplaza/miniconda3/lib/python3.11/site-packages/openpyxl/worksheet/_reader.py:329: UserWarning: Data Validation extension is not supported and will be removed\n",
      "  warn(msg)\n",
      "/Users/leonplaza/miniconda3/lib/python3.11/site-packages/pandas/core/internals/blocks.py:366: RuntimeWarning: invalid value encountered in log\n",
      "  result = func(self.values, **kwargs)\n",
      "/Users/leonplaza/miniconda3/lib/python3.11/site-packages/openpyxl/worksheet/_reader.py:329: UserWarning: Data Validation extension is not supported and will be removed\n",
      "  warn(msg)\n",
      "/Users/leonplaza/miniconda3/lib/python3.11/site-packages/pandas/core/internals/blocks.py:366: RuntimeWarning: invalid value encountered in log\n",
      "  result = func(self.values, **kwargs)\n",
      "/Users/leonplaza/miniconda3/lib/python3.11/site-packages/openpyxl/worksheet/_reader.py:329: UserWarning: Data Validation extension is not supported and will be removed\n",
      "  warn(msg)\n",
      "/Users/leonplaza/miniconda3/lib/python3.11/site-packages/pandas/core/internals/blocks.py:366: RuntimeWarning: invalid value encountered in log\n",
      "  result = func(self.values, **kwargs)\n",
      "/Users/leonplaza/miniconda3/lib/python3.11/site-packages/openpyxl/worksheet/_reader.py:329: UserWarning: Data Validation extension is not supported and will be removed\n",
      "  warn(msg)\n",
      "/Users/leonplaza/miniconda3/lib/python3.11/site-packages/pandas/core/internals/blocks.py:366: RuntimeWarning: invalid value encountered in log\n",
      "  result = func(self.values, **kwargs)\n"
     ]
    },
    {
     "data": {
      "text/plain": [
       "[2714873172289.39,\n",
       " 2976423297373.0835,\n",
       " 41160733840.12602,\n",
       " 60220302728.93921,\n",
       " 280759038566.04126]"
      ]
     },
     "execution_count": 145,
     "metadata": {},
     "output_type": "execute_result"
    }
   ],
   "source": [
    "x = [EV(\"MSFT\",\"Software (System & Application)\"), EV(\"AAPL\",\"Software (System & Application)\"),\n",
    "    EV(\"NVDA\",\"Semiconductor\"), EV(\"DIS\",\"Entertainment\"), EV(\"KO\",\"Beverage (Soft)\")]\n",
    "\n",
    "x"
   ]
  },
  {
   "cell_type": "code",
   "execution_count": 134,
   "id": "302e9739",
   "metadata": {},
   "outputs": [],
   "source": [
    "y = [enterpriseValue(\"MSFT\"),enterpriseValue(\"AAPL\"),enterpriseValue(\"NVDA\"),enterpriseValue(\"DIS\"),\n",
    "     enterpriseValue(\"KO\")]\n",
    "\n"
   ]
  },
  {
   "cell_type": "code",
   "execution_count": 146,
   "id": "e86af21e",
   "metadata": {},
   "outputs": [
    {
     "data": {
      "text/html": [
       "<div>\n",
       "<style scoped>\n",
       "    .dataframe tbody tr th:only-of-type {\n",
       "        vertical-align: middle;\n",
       "    }\n",
       "\n",
       "    .dataframe tbody tr th {\n",
       "        vertical-align: top;\n",
       "    }\n",
       "\n",
       "    .dataframe thead th {\n",
       "        text-align: right;\n",
       "    }\n",
       "</style>\n",
       "<table border=\"1\" class=\"dataframe\">\n",
       "  <thead>\n",
       "    <tr style=\"text-align: right;\">\n",
       "      <th></th>\n",
       "      <th>Damodaran's Prediction</th>\n",
       "      <th>Yahoo Finance's Prediction</th>\n",
       "      <th>% change</th>\n",
       "    </tr>\n",
       "  </thead>\n",
       "  <tbody>\n",
       "    <tr>\n",
       "      <th>Microsoft</th>\n",
       "      <td>2.714873e+12</td>\n",
       "      <td>2730402250752</td>\n",
       "      <td>-0.568747</td>\n",
       "    </tr>\n",
       "    <tr>\n",
       "      <th>Apple</th>\n",
       "      <td>2.976423e+12</td>\n",
       "      <td>3070588354560</td>\n",
       "      <td>-3.066678</td>\n",
       "    </tr>\n",
       "    <tr>\n",
       "      <th>Nvidia</th>\n",
       "      <td>4.116073e+10</td>\n",
       "      <td>1142926213120</td>\n",
       "      <td>-96.398653</td>\n",
       "    </tr>\n",
       "    <tr>\n",
       "      <th>Disney</th>\n",
       "      <td>6.022030e+10</td>\n",
       "      <td>216399380480</td>\n",
       "      <td>-72.171684</td>\n",
       "    </tr>\n",
       "    <tr>\n",
       "      <th>Coca Cola Company</th>\n",
       "      <td>2.807590e+11</td>\n",
       "      <td>281527451648</td>\n",
       "      <td>-0.272944</td>\n",
       "    </tr>\n",
       "  </tbody>\n",
       "</table>\n",
       "</div>"
      ],
      "text/plain": [
       "                   Damodaran's Prediction  Yahoo Finance's Prediction  \\\n",
       "Microsoft                    2.714873e+12               2730402250752   \n",
       "Apple                        2.976423e+12               3070588354560   \n",
       "Nvidia                       4.116073e+10               1142926213120   \n",
       "Disney                       6.022030e+10                216399380480   \n",
       "Coca Cola Company            2.807590e+11                281527451648   \n",
       "\n",
       "                    % change  \n",
       "Microsoft          -0.568747  \n",
       "Apple              -3.066678  \n",
       "Nvidia            -96.398653  \n",
       "Disney            -72.171684  \n",
       "Coca Cola Company  -0.272944  "
      ]
     },
     "execution_count": 146,
     "metadata": {},
     "output_type": "execute_result"
    }
   ],
   "source": [
    "df = pd.concat([pd.Series(x),pd.Series(y)], axis=1)\n",
    "\n",
    "#\n",
    "\n",
    "df.index = [\"Microsoft\", \"Apple\",\"Nvidia\",\"Disney\",\"Coca Cola Company\"]\n",
    "df.rename({0:\"Damodaran's Prediction\",1:\"Yahoo Finance's Prediction\"}, axis=1)\n",
    "\n",
    "df[\"% change\"] = (df.iloc[:,0] / df.iloc[:,1] - 1) * 100\n",
    "df.rename({0:\"Damodaran's Prediction\",1:\"Yahoo Finance's Prediction\"}, axis=1)"
   ]
  },
  {
   "cell_type": "code",
   "execution_count": 54,
   "id": "913699a4",
   "metadata": {},
   "outputs": [],
   "source": [
    "def enterpriseValue(ticket):\n",
    "    x = yf.Ticker(ticket)\n",
    "    return x.info.get(\"enterpriseValue\")"
   ]
  },
  {
   "cell_type": "code",
   "execution_count": null,
   "id": "f929b7e3",
   "metadata": {},
   "outputs": [],
   "source": [
    "smpl = sp500_list.sample(5)\n",
    "\n",
    "print(EV(\"MSFT\",\"Software (System & Application)\"), enterpriseValue(\"MSFT\"))\n",
    "print(EV(\"AAPL\",\"Software (System & Application)\"), enterpriseValue(\"AAPL\"))\n",
    "print(EV(\"AMZN\",\"Retail (Online)\"), enterpriseValue(\"AMZN\"))"
   ]
  },
  {
   "cell_type": "code",
   "execution_count": null,
   "id": "ed7c7f95",
   "metadata": {},
   "outputs": [],
   "source": []
  },
  {
   "cell_type": "code",
   "execution_count": null,
   "id": "19951b50",
   "metadata": {},
   "outputs": [],
   "source": []
  }
 ],
 "metadata": {
  "kernelspec": {
   "display_name": "Python 3 (ipykernel)",
   "language": "python",
   "name": "python3"
  },
  "language_info": {
   "codemirror_mode": {
    "name": "ipython",
    "version": 3
   },
   "file_extension": ".py",
   "mimetype": "text/x-python",
   "name": "python",
   "nbconvert_exporter": "python",
   "pygments_lexer": "ipython3",
   "version": "3.11.4"
  }
 },
 "nbformat": 4,
 "nbformat_minor": 5
}

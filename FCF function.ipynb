{
 "cells": [
  {
   "cell_type": "code",
   "execution_count": 15,
   "id": "6c351b6f",
   "metadata": {},
   "outputs": [],
   "source": [
    "import pandas as pd\n",
    "import numpy as np\n",
    "import yfinance as yf\n",
    "import re\n",
    "from fuzzywuzzy import fuzz\n",
    "from countrygroups import EUROPEAN_UNION\n",
    "\n",
    "# https://en.wikipedia.org/wiki/Global_Industry_Classification_Standard "
   ]
  },
  {
   "cell_type": "code",
   "execution_count": 17,
   "id": "2ed9c019",
   "metadata": {},
   "outputs": [],
   "source": [
    "def process_df(x):\n",
    "    columns = x.iloc[0,:]\n",
    "    columns.name = \"\"\n",
    "    x.columns = columns\n",
    "    x = x.iloc[1:,:]\n",
    "    x.reset_index(drop=True, names=columns, inplace=True)\n",
    "    x.rename(index={\"6\":\"\"}).head(7)\n",
    "    return x\n",
    "\n",
    "\n",
    "def get_working_capital(zone=\"\"):\n",
    "    path = \"data_damodaran/cash_flow_estimation/working_capital/wcdata\" + zone + \".xls\"\n",
    "    x = pd.read_excel(path, sheet_name=None)\n",
    "    x = x[\"Industry Averages\"]\n",
    "    loc = x[x.iloc[:,0] == \"Advertising\"].index.values[0] - 1\n",
    "    x = x.iloc[loc:,:]\n",
    "    x = process_df(x)\n",
    "    x = x.set_index(\"Industry Name\")\n",
    "    return x\n",
    "\n",
    "def get_growth_historical(zone=\"\"):\n",
    "    path = \"data_damodaran/growth/historical_growth/histgr\" + zone + \".xls\"\n",
    "    x = pd.read_excel(path, sheet_name=None)\n",
    "    x = x[\"Industry Averages\"]\n",
    "    loc = x[x.iloc[:,0] == \"Advertising\"].index.values[0] - 1\n",
    "    x = x.iloc[loc:,:]\n",
    "    x = process_df(x)\n",
    "    x = x.set_index(\"Industry Name\")\n",
    "    return x\n",
    "\n",
    "def get_capex(zone=\"\"):\n",
    "    path = \"data_damodaran/cash_flow_estimation/CAPEX/capex\" + zone + \".xls\"\n",
    "    x = pd.read_excel(path, sheet_name=None)\n",
    "    x = x[\"Industry Averages\"]\n",
    "    loc = x[x.iloc[:,0] == \"Advertising\"].index.values[0] - 1\n",
    "    x = x.iloc[loc:,:]\n",
    "    x = process_df(x)\n",
    "    x = x.set_index(\"Industry Name\")\n",
    "    return x\n",
    "\n",
    "\n",
    "def get_taxrates(zone=\"\"):\n",
    "    path = \"data_damodaran/discount_rate_estimation/tax/tax_rate_country/taxrate\" + zone + \".xls\"\n",
    "    x = pd.read_excel(path, sheet_name=None)\n",
    "    x = x[\"Industry Averages\"]\n",
    "    loc = x[x.iloc[:,0] == \"Advertising\"].index.values[0] - 1\n",
    "    x = x.iloc[loc:,:]\n",
    "    x = process_df(x)\n",
    "    x = x.set_index(\"Industry name\")\n",
    "    return x\n",
    "\n",
    "\n",
    "def get_growth_ebit(zone=\"\"):\n",
    "    path = \"data_damodaran/growth/growth_ebit/fundgrEB\" + zone + \".xls\"\n",
    "    x = pd.read_excel(path, sheet_name=None)\n",
    "    x = x[\"Industry Averages\"]\n",
    "    loc = x[x.iloc[:,0] == \"Advertising\"].index.values[0] - 1\n",
    "    x = x.iloc[loc:,:]\n",
    "    x = process_df(x)\n",
    "    x = x.set_index(\"Industry Name\")\n",
    "    return x\n",
    "\n",
    "industries = list(get_capex().index)\n",
    "\n",
    "def get_industry(ticket):\n",
    "    ls = []\n",
    "    ind = yf.Ticker(ticket).info.get(\"industry\")\n",
    "    for i in industries:\n",
    "        ls.append([fuzz.ratio(ind, i),i])\n",
    "    return pd.DataFrame(ls).sort_values(0, ascending=False).iloc[0,1]\n",
    "\n",
    "def zones(x):\n",
    "    if x == \"United States\":\n",
    "        return \"\"\n",
    "    if x == \"China\":\n",
    "        return \"China\"\n",
    "    if x == \"Canada\":\n",
    "        return \"emerg\"\n",
    "    if x == \"Australia\":\n",
    "        return \"emerg\"\n",
    "    if x == \"New Zeland\":\n",
    "        return \"emerg\"\n",
    "    if x in EUROPEAN_UNION.names:\n",
    "        return \"Europe\"\n",
    "    if x == \"India\":\n",
    "        return \"India\"\n",
    "    if x == \"Japan\":\n",
    "        return \"Japan\"\n",
    "    else:\n",
    "        return \"Global\""
   ]
  },
  {
   "cell_type": "code",
   "execution_count": 14,
   "id": "67b2f990",
   "metadata": {},
   "outputs": [
    {
     "name": "stdout",
     "output_type": "stream",
     "text": [
      "CPU times: user 12.3 ms, sys: 3.58 ms, total: 15.9 ms\n",
      "Wall time: 278 ms\n"
     ]
    },
    {
     "data": {
      "text/plain": [
       "'China'"
      ]
     },
     "execution_count": 14,
     "metadata": {},
     "output_type": "execute_result"
    }
   ],
   "source": [
    "%%time\n",
    "n = 4\n",
    "x = yf.Ticker(\"BABA\")\n",
    "sector = \"Software (System & Application)\"\n",
    "#x.info#.get('industry')\n",
    "x.info[\"country\"]"
   ]
  },
  {
   "cell_type": "code",
   "execution_count": 18,
   "id": "c907158c",
   "metadata": {},
   "outputs": [
    {
     "data": {
      "text/plain": [
       "'Software (Internet)'"
      ]
     },
     "execution_count": 18,
     "metadata": {},
     "output_type": "execute_result"
    }
   ],
   "source": [
    "def freecashflow(ticket,n=4):\n",
    "    x = yf.Ticker(ticket)\n",
    "    sector = get_industry(ticket)\n",
    "    zone = zones(x.info[\"country\"])\n",
    "    \n",
    "    ebit = x.income_stmt.loc[\"EBIT\",:].sort_index()\n",
    "    g_ebit = get_growth_ebit(zone).loc[sector,\"Expected Growth in EBIT\"]\n",
    "    ebit_forecast = pd.Series([ebit.iloc[-1]*((1+g_ebit)**i) for i in range(n+1)], index=range(0,n+1))[1:]\n",
    "\n",
    "    tax_rate = get_taxrates(zone).loc[sector, \"Average across only money-making companies\"]\n",
    "\n",
    "    usa_ktn_percentage = get_working_capital(zone).loc[sector,\"Non-cash WC/ Sales\"]\n",
    "    sales_growth_2y = get_growth_historical(zone).loc[sector,\"Expected Growth in Revenues - Next 2 years\"]\n",
    "    g_sales = (1+sales_growth_2y)**(1/2)-1\n",
    "\n",
    "    sales = x.incomestmt.loc[\"Total Revenue\",:].sort_index()\n",
    "    sales_forecast = pd.Series([sales.iloc[-1]*((1+g_sales)**i) for i in range(n+1)], index=range(0,n+1))\n",
    "    sales_forecast\n",
    "\n",
    "    ktn_forecast = sales_forecast * usa_ktn_percentage\n",
    "    ktn_delta_forecast = ktn_forecast.diff()[1:]\n",
    "\n",
    "    capex_vs_sales = get_capex(zone).loc[sector, \"Net Cap Ex/Sales\"]\n",
    "    capex_net = (sales_forecast * capex_vs_sales)[1:]\n",
    "\n",
    "\n",
    "    return ebit_forecast*(1-tax_rate) - capex_net - ktn_delta_forecast\n",
    "\n",
    "get_industry(\"MSFT\")\n"
   ]
  },
  {
   "cell_type": "code",
   "execution_count": 3,
   "id": "fcd4b9bb",
   "metadata": {},
   "outputs": [
    {
     "data": {
      "text/plain": [
       "1    4.237772e+10\n",
       "2    6.620163e+10\n",
       "3    9.853806e+10\n",
       "4    1.421420e+11\n",
       "dtype: float64"
      ]
     },
     "execution_count": 3,
     "metadata": {},
     "output_type": "execute_result"
    }
   ],
   "source": [
    "def freecashflow(ticket,sector,n=4):\n",
    "    x = yf.Ticker(ticket)\n",
    "    ebit = x.income_stmt.loc[\"EBIT\",:].sort_index()\n",
    "    g_ebit = get_growth_ebit(\"\").loc[sector,\"Expected Growth in EBIT\"]\n",
    "    ebit_forecast = pd.Series([ebit.iloc[-1]*((1+g_ebit)**i) for i in range(n+1)], index=range(0,n+1))[1:]\n",
    "\n",
    "    tax_rate = get_taxrates(\"\").loc[sector, \"Average across only money-making companies\"]\n",
    "\n",
    "    usa_ktn_percentage = get_working_capital(\"\").loc[sector,\"Non-cash WC/ Sales\"]\n",
    "    sales_growth_2y = get_growth_historical(\"\").loc[sector,\"Expected Growth in Revenues - Next 2 years\"]\n",
    "    g_sales = (1+sales_growth_2y)**(1/2)-1\n",
    "\n",
    "    sales = x.incomestmt.loc[\"Total Revenue\",:].sort_index()\n",
    "    sales_forecast = pd.Series([sales.iloc[-1]*((1+g_sales)**i) for i in range(n+1)], index=range(0,n+1))\n",
    "    sales_forecast\n",
    "\n",
    "    ktn_forecast = sales_forecast * usa_ktn_percentage\n",
    "    ktn_delta_forecast = ktn_forecast.diff()[1:]\n",
    "\n",
    "    capex_vs_sales = get_capex(\"\").loc[sector, \"Net Cap Ex/Sales\"]\n",
    "    capex_net = (sales_forecast * capex_vs_sales)[1:]\n",
    "\n",
    "\n",
    "    return ebit_forecast*(1-tax_rate) - capex_net - ktn_delta_forecast\n",
    "\n",
    "freecashflow(\"MSFT\", \"Software (System & Application)\")"
   ]
  },
  {
   "cell_type": "code",
   "execution_count": 6,
   "id": "0db465d6",
   "metadata": {},
   "outputs": [
    {
     "data": {
      "text/plain": [
       "'Software - Infrastructure'"
      ]
     },
     "execution_count": 6,
     "metadata": {},
     "output_type": "execute_result"
    }
   ],
   "source": [
    "yf.Ticker(\"MSFT\").info.get(\"industry\")\n"
   ]
  },
  {
   "cell_type": "code",
   "execution_count": 75,
   "id": "d7df58a9",
   "metadata": {},
   "outputs": [
    {
     "data": {
      "text/plain": [
       "1    4.237772e+10\n",
       "2    6.620163e+10\n",
       "3    9.853806e+10\n",
       "4    1.421420e+11\n",
       "dtype: float64"
      ]
     },
     "execution_count": 75,
     "metadata": {},
     "output_type": "execute_result"
    }
   ],
   "source": [
    "freecashflow(\"MSFT\", \"Software (System & Application)\")\n",
    "\n",
    "yf.Ticker(\"KO\").info.get(\"industry\")\n",
    "\n",
    "list(get_capex(\"\").index)\n",
    "yf.Ticker(\"KO\").info.get(\"industry\")\n",
    "\n",
    "freecashflow(\"META\", \"Beverage (Soft)\")\n",
    "yf.Ticker(\"META\").info.get(\"industry\")\n",
    "\n",
    "freecashflow(\"MSFT\", \"Software (System & Application)\")"
   ]
  },
  {
   "cell_type": "code",
   "execution_count": 53,
   "id": "46347b3d",
   "metadata": {},
   "outputs": [
    {
     "data": {
      "text/plain": [
       "0.30928579000938206"
      ]
     },
     "execution_count": 53,
     "metadata": {},
     "output_type": "execute_result"
    }
   ],
   "source": [
    "g_ebit = get_growth_ebit(\"\").loc[sector,\"Expected Growth in EBIT\"]\n",
    "ebit_forecast = pd.Series([ebit.iloc[-1]*((1+g_ebit)**i) for i in range(n+1)], index=range(0,n+1))[1:]\n",
    "g_ebit"
   ]
  }
 ],
 "metadata": {
  "kernelspec": {
   "display_name": "Python 3 (ipykernel)",
   "language": "python",
   "name": "python3"
  },
  "language_info": {
   "codemirror_mode": {
    "name": "ipython",
    "version": 3
   },
   "file_extension": ".py",
   "mimetype": "text/x-python",
   "name": "python",
   "nbconvert_exporter": "python",
   "pygments_lexer": "ipython3",
   "version": "3.11.4"
  }
 },
 "nbformat": 4,
 "nbformat_minor": 5
}

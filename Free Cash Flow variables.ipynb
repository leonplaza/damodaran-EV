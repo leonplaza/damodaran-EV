{
 "cells": [
  {
   "cell_type": "code",
   "execution_count": 81,
   "id": "187b20dd",
   "metadata": {},
   "outputs": [],
   "source": [
    "import pandas as pd\n",
    "import numpy as np\n",
    "import yfinance as yf\n",
    "import re\n",
    "\n",
    "\n",
    "\n"
   ]
  },
  {
   "cell_type": "code",
   "execution_count": 34,
   "id": "6b622f2b",
   "metadata": {},
   "outputs": [
    {
     "data": {
      "text/plain": [
       "'Technology'"
      ]
     },
     "execution_count": 34,
     "metadata": {},
     "output_type": "execute_result"
    }
   ],
   "source": [
    "x = yf.Ticker(\"MSFT\")\n",
    "x.cashflow.loc[\"Free Cash Flow\",:]\n",
    "x.info[\"sector\"]"
   ]
  },
  {
   "cell_type": "code",
   "execution_count": 179,
   "id": "040819c8",
   "metadata": {},
   "outputs": [
    {
     "data": {
      "text/plain": [
       "'Software - Infrastructure'"
      ]
     },
     "execution_count": 179,
     "metadata": {},
     "output_type": "execute_result"
    }
   ],
   "source": [
    "x.info.get('industry')\n",
    "#x.balance_sheet.index"
   ]
  },
  {
   "cell_type": "code",
   "execution_count": 174,
   "id": "c4bfc064",
   "metadata": {},
   "outputs": [],
   "source": [
    "def process_df(x):\n",
    "    columns = x.iloc[0,:]\n",
    "    columns.name = \"\"\n",
    "    x.columns = columns\n",
    "    x = x.iloc[1:,:]\n",
    "    x.reset_index(drop=True, names=columns, inplace=True)\n",
    "    x.rename(index={\"6\":\"\"}).head(7)\n",
    "    return x\n",
    "\n",
    "\n",
    "def get_working_capital(zone=\"\"):\n",
    "    path = \"data_damodaran/cash_flow_estimation/working_capital/wcdata\" + zone + \".xls\"\n",
    "    x = pd.read_excel(path, sheet_name=None)\n",
    "    x = x[\"Industry Averages\"]\n",
    "    loc = x[x.iloc[:,0] == \"Advertising\"].index.values[0] - 1\n",
    "    x = x.iloc[loc:,:]\n",
    "    x = process_df(x)\n",
    "    x = x.set_index(\"Industry Name\")\n",
    "    return x\n",
    "\n",
    "def get_growth_historical(zone=\"\"):\n",
    "    path = \"data_damodaran/growth/historical_growth/histgr\" + zone + \".xls\"\n",
    "    x = pd.read_excel(path, sheet_name=None)\n",
    "    x = x[\"Industry Averages\"]\n",
    "    loc = x[x.iloc[:,0] == \"Advertising\"].index.values[0] - 1\n",
    "    x = x.iloc[loc:,:]\n",
    "    x = process_df(x)\n",
    "    x = x.set_index(\"Industry Name\")\n",
    "    return x\n",
    "\n",
    "def get_capex(zone=\"\"):\n",
    "    path = \"data_damodaran/cash_flow_estimation/CAPEX/capex\" + zone + \".xls\"\n",
    "    x = pd.read_excel(path, sheet_name=None)\n",
    "    x = x[\"Industry Averages\"]\n",
    "    loc = x[x.iloc[:,0] == \"Advertising\"].index.values[0] - 1\n",
    "    x = x.iloc[loc:,:]\n",
    "    x = process_df(x)\n",
    "    x = x.set_index(\"Industry Name\")\n",
    "    return x\n",
    "\n",
    "\n",
    "def get_taxrates(zone=\"\"):\n",
    "    path = \"data_damodaran/discount_rate_estimation/tax/tax_rate_country/taxrate\" + zone + \".xls\"\n",
    "    x = pd.read_excel(path, sheet_name=None)\n",
    "    x = x[\"Industry Averages\"]\n",
    "    loc = x[x.iloc[:,0] == \"Advertising\"].index.values[0] - 1\n",
    "    x = x.iloc[loc:,:]\n",
    "    x = process_df(x)\n",
    "    x = x.set_index(\"Industry name\")\n",
    "    return x\n",
    "\n",
    "\n",
    "def get_growth_ebit(zone=\"\"):\n",
    "    path = \"data_damodaran/growth/growth_ebit/fundgrEB\" + zone + \".xls\"\n",
    "    x = pd.read_excel(path, sheet_name=None)\n",
    "    x = x[\"Industry Averages\"]\n",
    "    loc = x[x.iloc[:,0] == \"Advertising\"].index.values[0] - 1\n",
    "    x = x.iloc[loc:,:]\n",
    "    x = process_df(x)\n",
    "    x = x.set_index(\"Industry Name\")\n",
    "    return x"
   ]
  },
  {
   "cell_type": "markdown",
   "id": "7f74f119",
   "metadata": {},
   "source": [
    "### Ebit\n",
    "\n"
   ]
  },
  {
   "cell_type": "code",
   "execution_count": 196,
   "id": "01ddf04d",
   "metadata": {},
   "outputs": [
    {
     "data": {
      "text/plain": [
       "1    1.159019e+11\n",
       "2    1.517487e+11\n",
       "3    1.986824e+11\n",
       "4    2.601321e+11\n",
       "dtype: float64"
      ]
     },
     "execution_count": 196,
     "metadata": {},
     "output_type": "execute_result"
    }
   ],
   "source": [
    "n = 4\n",
    "\n",
    "ebit = x.income_stmt.loc[\"EBIT\",:].sort_index()\n",
    "g = get_growth_ebit(\"\").loc[sector,\"Expected Growth in EBIT\"]\n",
    "ebit_forecast = pd.Series([ebit.iloc[-1]*((1+g)**i) for i in range(n+1)], index=range(0,n+1))[1:]\n",
    "ebit_forecast"
   ]
  },
  {
   "cell_type": "markdown",
   "id": "47e28704",
   "metadata": {},
   "source": [
    "### Tax"
   ]
  },
  {
   "cell_type": "code",
   "execution_count": 193,
   "id": "77ebeb92",
   "metadata": {},
   "outputs": [],
   "source": [
    "tax_rate = x.incomestmt.loc[\"Tax Rate For Calcs\"]\n",
    "tax_rate = get_taxrates(\"\").loc[sector, \"Average across only money-making companies\"]"
   ]
  },
  {
   "cell_type": "markdown",
   "id": "64461baa",
   "metadata": {},
   "source": [
    "### Change in KTN"
   ]
  },
  {
   "cell_type": "code",
   "execution_count": 92,
   "id": "f689c003",
   "metadata": {},
   "outputs": [
    {
     "data": {
      "text/plain": [
       "2023-06-30   -2388000000.0\n",
       "2022-06-30     446000000.0\n",
       "2021-06-30    -936000000.0\n",
       "2020-06-30    2148000000.0\n",
       "Name: Change In Working Capital, dtype: object"
      ]
     },
     "execution_count": 92,
     "metadata": {},
     "output_type": "execute_result"
    }
   ],
   "source": [
    "# 1.- Directly\n",
    "ktn_delta = x.cashflow.loc[\"Change In Working Capital\", :]\n",
    "ktn_delta"
   ]
  },
  {
   "cell_type": "code",
   "execution_count": 144,
   "id": "f6681374",
   "metadata": {},
   "outputs": [
    {
     "data": {
      "text/plain": [
       "1    2.947163e+09\n",
       "2    3.261794e+09\n",
       "3    3.610015e+09\n",
       "4    3.995411e+09\n",
       "dtype: float64"
      ]
     },
     "execution_count": 144,
     "metadata": {},
     "output_type": "execute_result"
    }
   ],
   "source": [
    "# 2.- With ratios\n",
    "usa_ktn_percentage = get_working_capital(\"\").loc[sector,\"Non-cash WC/ Sales\"]\n",
    "sector = \"Software (System & Application)\"\n",
    "\n",
    "apr = get_growth_historical(\"\").loc[sector,\"Expected Growth in Revenues - Next 2 years\"]\n",
    "g = (1+apr)**(1/2)-1\n",
    "\n",
    "\n",
    "sales = x.incomestmt.loc[\"Total Revenue\",:].sort_index()\n",
    "sales_forecast = pd.Series([sales.iloc[-1]*((1+g)**i) for i in range(n+1)], index=range(0,n+1))\n",
    "sales_forecast\n",
    "\n",
    "ktn_forecast = sales_forecast * usa_ktn_percentage\n",
    "ktn_delta_forecast = ktn_forecast.diff()[1:]\n",
    "ktn_delta_forecast "
   ]
  },
  {
   "cell_type": "markdown",
   "id": "c37a7c95",
   "metadata": {},
   "source": [
    "### Capex - Dep"
   ]
  },
  {
   "cell_type": "code",
   "execution_count": 194,
   "id": "daae246b",
   "metadata": {},
   "outputs": [],
   "source": [
    "# 1- \n"
   ]
  },
  {
   "cell_type": "code",
   "execution_count": 195,
   "id": "f4b040f3",
   "metadata": {},
   "outputs": [
    {
     "data": {
      "text/plain": [
       "1    4.996929e+10\n",
       "2    5.530389e+10\n",
       "3    6.120799e+10\n",
       "4    6.774240e+10\n",
       "dtype: float64"
      ]
     },
     "execution_count": 195,
     "metadata": {},
     "output_type": "execute_result"
    }
   ],
   "source": [
    "capex_vs_sales = get_capex(\"\").loc[sector, \"Net Cap Ex/Sales\"]\n",
    "capex_net = (sales_forecast * capex_vs_sales)[1:]\n",
    "capex_net"
   ]
  },
  {
   "cell_type": "markdown",
   "id": "9bdbd91d",
   "metadata": {},
   "source": [
    "# FCF "
   ]
  },
  {
   "cell_type": "code",
   "execution_count": 192,
   "id": "f7e24f00",
   "metadata": {},
   "outputs": [
    {
     "data": {
      "text/plain": [
       "1    4.237772e+10\n",
       "2    6.620163e+10\n",
       "3    9.853806e+10\n",
       "4    1.421420e+11\n",
       "dtype: float64"
      ]
     },
     "execution_count": 192,
     "metadata": {},
     "output_type": "execute_result"
    }
   ],
   "source": [
    "ebit_forecast*(1-tax_rate) - capex_net - ktn_delta_forecast"
   ]
  },
  {
   "cell_type": "markdown",
   "id": "380af7ed",
   "metadata": {},
   "source": [
    "## Method"
   ]
  },
  {
   "cell_type": "code",
   "execution_count": 198,
   "id": "bae09b8d",
   "metadata": {},
   "outputs": [
    {
     "data": {
      "text/plain": [
       "1    3.678669e+10\n",
       "2    5.828449e+10\n",
       "3    8.751166e+10\n",
       "4    1.269741e+11\n",
       "dtype: float64"
      ]
     },
     "execution_count": 198,
     "metadata": {},
     "output_type": "execute_result"
    }
   ],
   "source": [
    "n = 4\n",
    "sector = \"Software (System & Application)\"\n",
    "\n",
    "ebit = x.income_stmt.loc[\"EBIT\",:].sort_index()\n",
    "g_ebit = get_growth_ebit(\"\").loc[sector,\"Expected Growth in EBIT\"]\n",
    "ebit_forecast = pd.Series([ebit.iloc[-1]*((1+g)**i) for i in range(n+1)], index=range(0,n+1))[1:]\n",
    "\n",
    "tax_rate = get_taxrates(\"\").loc[sector, \"Average across only money-making companies\"]\n",
    "\n",
    "usa_ktn_percentage = get_working_capital(\"\").loc[sector,\"Non-cash WC/ Sales\"]\n",
    "sales_growth_2y = get_growth_historical(\"\").loc[sector,\"Expected Growth in Revenues - Next 2 years\"]\n",
    "g_sales = (1+sales_growth_2y)**(1/2)-1\n",
    "\n",
    "sales = x.incomestmt.loc[\"Total Revenue\",:].sort_index()\n",
    "sales_forecast = pd.Series([sales.iloc[-1]*((1+g)**i) for i in range(n+1)], index=range(0,n+1))\n",
    "sales_forecast\n",
    "\n",
    "ktn_forecast = sales_forecast * usa_ktn_percentage\n",
    "ktn_delta_forecast = ktn_forecast.diff()[1:]\n",
    "\n",
    "\n",
    "ebit_forecast*(1-tax_rate) - capex_net - ktn_delta_forecast"
   ]
  }
 ],
 "metadata": {
  "kernelspec": {
   "display_name": "Python 3 (ipykernel)",
   "language": "python",
   "name": "python3"
  },
  "language_info": {
   "codemirror_mode": {
    "name": "ipython",
    "version": 3
   },
   "file_extension": ".py",
   "mimetype": "text/x-python",
   "name": "python",
   "nbconvert_exporter": "python",
   "pygments_lexer": "ipython3",
   "version": "3.11.4"
  }
 },
 "nbformat": 4,
 "nbformat_minor": 5
}

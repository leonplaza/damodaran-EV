{
 "cells": [
  {
   "cell_type": "code",
   "execution_count": 3,
   "id": "78d032ee",
   "metadata": {},
   "outputs": [],
   "source": [
    "import pandas as pd\n",
    "import numpy as np\n",
    "import yfinance as yf\n",
    "import re"
   ]
  },
  {
   "cell_type": "code",
   "execution_count": 4,
   "id": "f33166b8",
   "metadata": {},
   "outputs": [
    {
     "data": {
      "text/plain": [
       "'Technology'"
      ]
     },
     "execution_count": 4,
     "metadata": {},
     "output_type": "execute_result"
    }
   ],
   "source": [
    "x = yf.Ticker(\"MSFT\")\n",
    "x.cashflow.loc[\"Free Cash Flow\",:]\n",
    "x.info[\"sector\"]"
   ]
  },
  {
   "cell_type": "code",
   "execution_count": 179,
   "id": "7fa46be0",
   "metadata": {},
   "outputs": [
    {
     "data": {
      "text/plain": [
       "'Software - Infrastructure'"
      ]
     },
     "execution_count": 179,
     "metadata": {},
     "output_type": "execute_result"
    }
   ],
   "source": [
    "x.info.get('industry')\n",
    "#x.balance_sheet.index"
   ]
  },
  {
   "cell_type": "code",
   "execution_count": 5,
   "id": "4be89104",
   "metadata": {},
   "outputs": [],
   "source": [
    "def process_df(x):\n",
    "    columns = x.iloc[0,:]\n",
    "    columns.name = \"\"\n",
    "    x.columns = columns\n",
    "    x = x.iloc[1:,:]\n",
    "    x.reset_index(drop=True, names=columns, inplace=True)\n",
    "    x.rename(index={\"6\":\"\"}).head(7)\n",
    "    return x\n",
    "\n",
    "\n",
    "def get_working_capital(zone=\"\"):\n",
    "    path = \"data_damodaran/cash_flow_estimation/working_capital/wcdata\" + zone + \".xls\"\n",
    "    x = pd.read_excel(path, sheet_name=None)\n",
    "    x = x[\"Industry Averages\"]\n",
    "    loc = x[x.iloc[:,0] == \"Advertising\"].index.values[0] - 1\n",
    "    x = x.iloc[loc:,:]\n",
    "    x = process_df(x)\n",
    "    x = x.set_index(\"Industry Name\")\n",
    "    return x\n",
    "\n",
    "def get_growth_historical(zone=\"\"):\n",
    "    path = \"data_damodaran/growth/historical_growth/histgr\" + zone + \".xls\"\n",
    "    x = pd.read_excel(path, sheet_name=None)\n",
    "    x = x[\"Industry Averages\"]\n",
    "    loc = x[x.iloc[:,0] == \"Advertising\"].index.values[0] - 1\n",
    "    x = x.iloc[loc:,:]\n",
    "    x = process_df(x)\n",
    "    x = x.set_index(\"Industry Name\")\n",
    "    return x\n",
    "\n",
    "def get_capex(zone=\"\"):\n",
    "    path = \"data_damodaran/cash_flow_estimation/CAPEX/capex\" + zone + \".xls\"\n",
    "    x = pd.read_excel(path, sheet_name=None)\n",
    "    x = x[\"Industry Averages\"]\n",
    "    loc = x[x.iloc[:,0] == \"Advertising\"].index.values[0] - 1\n",
    "    x = x.iloc[loc:,:]\n",
    "    x = process_df(x)\n",
    "    x = x.set_index(\"Industry Name\")\n",
    "    return x\n",
    "\n",
    "\n",
    "def get_taxrates(zone=\"\"):\n",
    "    path = \"data_damodaran/discount_rate_estimation/tax/tax_rate_country/taxrate\" + zone + \".xls\"\n",
    "    x = pd.read_excel(path, sheet_name=None)\n",
    "    x = x[\"Industry Averages\"]\n",
    "    loc = x[x.iloc[:,0] == \"Advertising\"].index.values[0] - 1\n",
    "    x = x.iloc[loc:,:]\n",
    "    x = process_df(x)\n",
    "    x = x.set_index(\"Industry name\")\n",
    "    return x\n",
    "\n",
    "\n",
    "def get_growth_ebit(zone=\"\"):\n",
    "    path = \"data_damodaran/growth/growth_ebit/fundgrEB\" + zone + \".xls\"\n",
    "    x = pd.read_excel(path, sheet_name=None)\n",
    "    x = x[\"Industry Averages\"]\n",
    "    loc = x[x.iloc[:,0] == \"Advertising\"].index.values[0] - 1\n",
    "    x = x.iloc[loc:,:]\n",
    "    x = process_df(x)\n",
    "    x = x.set_index(\"Industry Name\")\n",
    "    return x"
   ]
  },
  {
   "cell_type": "markdown",
   "id": "12d93177",
   "metadata": {},
   "source": [
    "### Ebit\n",
    "\n"
   ]
  },
  {
   "cell_type": "code",
   "execution_count": 6,
   "id": "d7ed21c5",
   "metadata": {},
   "outputs": [
    {
     "data": {
      "text/plain": [
       "1    1.159019e+11\n",
       "2    1.517487e+11\n",
       "3    1.986824e+11\n",
       "4    2.601321e+11\n",
       "dtype: float64"
      ]
     },
     "execution_count": 6,
     "metadata": {},
     "output_type": "execute_result"
    }
   ],
   "source": [
    "n = 4\n",
    "\n",
    "ebit = x.income_stmt.loc[\"EBIT\",:].sort_index()\n",
    "g = get_growth_ebit(\"\").loc[sector,\"Expected Growth in EBIT\"]\n",
    "ebit_forecast = pd.Series([ebit.iloc[-1]*((1+g)**i) for i in range(n+1)], index=range(0,n+1))[1:]\n",
    "ebit_forecast"
   ]
  },
  {
   "cell_type": "markdown",
   "id": "e741bbc6",
   "metadata": {},
   "source": [
    "### Tax"
   ]
  },
  {
   "cell_type": "code",
   "execution_count": 7,
   "id": "efa1460b",
   "metadata": {},
   "outputs": [],
   "source": [
    "tax_rate = x.incomestmt.loc[\"Tax Rate For Calcs\"]\n",
    "tax_rate = get_taxrates(\"\").loc[sector, \"Average across only money-making companies\"]"
   ]
  },
  {
   "cell_type": "markdown",
   "id": "8f8f3001",
   "metadata": {},
   "source": [
    "### Change in KTN"
   ]
  },
  {
   "cell_type": "code",
   "execution_count": 8,
   "id": "20652acc",
   "metadata": {},
   "outputs": [
    {
     "data": {
      "text/plain": [
       "2023-06-30   -2388000000.0\n",
       "2022-06-30     446000000.0\n",
       "2021-06-30    -936000000.0\n",
       "2020-06-30    2148000000.0\n",
       "Name: Change In Working Capital, dtype: object"
      ]
     },
     "execution_count": 8,
     "metadata": {},
     "output_type": "execute_result"
    }
   ],
   "source": [
    "# 1.- Directly\n",
    "ktn_delta = x.cashflow.loc[\"Change In Working Capital\", :]\n",
    "ktn_delta "
   ]
  },
  {
   "cell_type": "code",
   "execution_count": 9,
   "id": "4a7ae104",
   "metadata": {},
   "outputs": [
    {
     "data": {
      "text/plain": [
       "1    2.947163e+09\n",
       "2    3.261794e+09\n",
       "3    3.610015e+09\n",
       "4    3.995411e+09\n",
       "dtype: float64"
      ]
     },
     "execution_count": 9,
     "metadata": {},
     "output_type": "execute_result"
    }
   ],
   "source": [
    "# 2.- With ratios\n",
    "usa_ktn_percentage = get_working_capital(\"\").loc[sector,\"Non-cash WC/ Sales\"]\n",
    "sector = \"Software (System & Application)\"\n",
    "\n",
    "apr = get_growth_historical(\"\").loc[sector,\"Expected Growth in Revenues - Next 2 years\"]\n",
    "g = (1+apr)**(1/2)-1\n",
    "\n",
    "\n",
    "sales = x.incomestmt.loc[\"Total Revenue\",:].sort_index()\n",
    "sales_forecast = pd.Series([sales.iloc[-1]*((1+g)**i) for i in range(n+1)], index=range(0,n+1))\n",
    "sales_forecast\n",
    "\n",
    "ktn_forecast = sales_forecast * usa_ktn_percentage\n",
    "ktn_delta_forecast = ktn_forecast.diff()[1:]\n",
    "ktn_delta_forecast "
   ]
  },
  {
   "cell_type": "markdown",
   "id": "146659e3",
   "metadata": {},
   "source": [
    "### Capex - Dep"
   ]
  },
  {
   "cell_type": "code",
   "execution_count": 10,
   "id": "0bcb69e4",
   "metadata": {},
   "outputs": [],
   "source": [
    "# 1- \n"
   ]
  },
  {
   "cell_type": "code",
   "execution_count": 11,
   "id": "cdf05af7",
   "metadata": {},
   "outputs": [
    {
     "data": {
      "text/plain": [
       "1    4.996929e+10\n",
       "2    5.530389e+10\n",
       "3    6.120799e+10\n",
       "4    6.774240e+10\n",
       "dtype: float64"
      ]
     },
     "execution_count": 11,
     "metadata": {},
     "output_type": "execute_result"
    }
   ],
   "source": [
    "capex_vs_sales = get_capex(\"\").loc[sector, \"Net Cap Ex/Sales\"]\n",
    "capex_net = (sales_forecast * capex_vs_sales)[1:]\n",
    "capex_net"
   ]
  },
  {
   "cell_type": "markdown",
   "id": "aca6f94b",
   "metadata": {},
   "source": [
    "# FCF "
   ]
  },
  {
   "cell_type": "code",
   "execution_count": 12,
   "id": "a6124bc0",
   "metadata": {},
   "outputs": [
    {
     "data": {
      "text/plain": [
       "1    4.237772e+10\n",
       "2    6.620163e+10\n",
       "3    9.853806e+10\n",
       "4    1.421420e+11\n",
       "dtype: float64"
      ]
     },
     "execution_count": 12,
     "metadata": {},
     "output_type": "execute_result"
    }
   ],
   "source": [
    "ebit_forecast*(1-tax_rate) - capex_net - ktn_delta_forecast"
   ]
  },
  {
   "cell_type": "markdown",
   "id": "84cc5522",
   "metadata": {},
   "source": [
    "## Method 1:\n",
    "- ebit: EBIT increases at an expected rate, this rate is extracted from Damodaran for sector\n",
    "- Tax: Tax rate is extracted from damodaran, it represent the average within the industry an oly accounts those companies that had profits\n",
    "- CAPEX net: CAPEX NET "
   ]
  },
  {
   "cell_type": "code",
   "execution_count": 13,
   "id": "31d1b6f4",
   "metadata": {},
   "outputs": [
    {
     "data": {
      "text/plain": [
       "1    2.763704e+10\n",
       "2    3.058750e+10\n",
       "3    3.385294e+10\n",
       "4    3.746699e+10\n",
       "dtype: float64"
      ]
     },
     "execution_count": 13,
     "metadata": {},
     "output_type": "execute_result"
    }
   ],
   "source": [
    "n = 4\n",
    "sector = \"Software (System & Application)\"\n",
    "\n",
    "ebit = x.income_stmt.loc[\"EBIT\",:].sort_index()\n",
    "g_ebit = get_growth_ebit(\"\").loc[sector,\"Expected Growth in EBIT\"]\n",
    "ebit_forecast = pd.Series([ebit.iloc[-1]*((1+g)**i) for i in range(n+1)], index=range(0,n+1))[1:]\n",
    "\n",
    "tax_rate = get_taxrates(\"\").loc[sector, \"Average across only money-making companies\"]\n",
    "\n",
    "usa_ktn_percentage = get_working_capital(\"\").loc[sector,\"Non-cash WC/ Sales\"]\n",
    "sales_growth_2y = get_growth_historical(\"\").loc[sector,\"Expected Growth in Revenues - Next 2 years\"]\n",
    "g_sales = (1+sales_growth_2y)**(1/2)-1\n",
    "\n",
    "sales = x.incomestmt.loc[\"Total Revenue\",:].sort_index()\n",
    "sales_forecast = pd.Series([sales.iloc[-1]*((1+g)**i) for i in range(n+1)], index=range(0,n+1))\n",
    "sales_forecast\n",
    "\n",
    "ktn_forecast = sales_forecast * usa_ktn_percentage\n",
    "ktn_delta_forecast = ktn_forecast.diff()[1:]\n",
    "\n",
    "\n",
    "ebit_forecast*(1-tax_rate) - capex_net - ktn_delta_forecast"
   ]
  },
  {
   "cell_type": "code",
   "execution_count": null,
   "id": "041c43f9",
   "metadata": {},
   "outputs": [],
   "source": []
  },
  {
   "cell_type": "markdown",
   "id": "570f692d",
   "metadata": {},
   "source": [
    "# WACC"
   ]
  },
  {
   "cell_type": "code",
   "execution_count": null,
   "id": "281b6620",
   "metadata": {},
   "outputs": [],
   "source": []
  }
 ],
 "metadata": {
  "kernelspec": {
   "display_name": "Python 3 (ipykernel)",
   "language": "python",
   "name": "python3"
  },
  "language_info": {
   "codemirror_mode": {
    "name": "ipython",
    "version": 3
   },
   "file_extension": ".py",
   "mimetype": "text/x-python",
   "name": "python",
   "nbconvert_exporter": "python",
   "pygments_lexer": "ipython3",
   "version": "3.11.4"
  }
 },
 "nbformat": 4,
 "nbformat_minor": 5
}

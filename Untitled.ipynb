{
 "cells": [
  {
   "cell_type": "code",
   "execution_count": 2,
   "id": "ed8e4371",
   "metadata": {},
   "outputs": [],
   "source": [
    "import pandas as pd\n",
    "import numpy as np\n",
    "import yfinance as yf\n",
    "import re\n"
   ]
  },
  {
   "cell_type": "code",
   "execution_count": 36,
   "id": "98db2a7f",
   "metadata": {},
   "outputs": [
    {
     "data": {
      "text/plain": [
       "0     73365000000.0\n",
       "1     92953000000.0\n",
       "2    111443000000.0\n",
       "3     99584000000.0\n",
       "Name: Free Cash Flow, dtype: object"
      ]
     },
     "execution_count": 36,
     "metadata": {},
     "output_type": "execute_result"
    }
   ],
   "source": [
    "x = yf.Ticker(\"AAPL\")\n",
    "fcf_year = x.cashflow.loc[\"Free Cash Flow\",:].sort_index().reset_index(drop=True)\n",
    "\n",
    "g = fcf_year.pct_change().mean()\n",
    "fcf_forecast = [fcf_year[1]*(1+g)]\n",
    "fcf_forecast\n",
    "fcf_year"
   ]
  },
  {
   "cell_type": "code",
   "execution_count": 41,
   "id": "4f7316b8",
   "metadata": {},
   "outputs": [],
   "source": [
    "# Calculate Enterprise Value (We have the growth rate, the fcf forecast and the wacc)\n",
    "\n",
    "def EV(fcf_ls, wacc, g):\n",
    "    dcf = []\n",
    "    n = len(fcf_ls)\n",
    "\n",
    "    for i in range(1,n+1):\n",
    "        dcf.append(fcf_ls[i-1]/((1 + wacc)**i))\n",
    "\n",
    "    VT = (fcf_ls[-1]*(1-g))/(wacc - g)\n",
    "\n",
    "    EV = sum(dcf) + VT\n",
    "    return EV"
   ]
  },
  {
   "cell_type": "code",
   "execution_count": 60,
   "id": "e3cc04ed",
   "metadata": {},
   "outputs": [
    {
     "data": {
      "text/plain": [
       "2020-09-30    274515000000.0\n",
       "2021-09-30    365817000000.0\n",
       "2022-09-30    394328000000.0\n",
       "2023-09-30    383285000000.0\n",
       "Name: Total Revenue, dtype: object"
      ]
     },
     "execution_count": 60,
     "metadata": {},
     "output_type": "execute_result"
    }
   ],
   "source": [
    "ebit = x.incomestmt.loc[\"EBIT\",:].sort_index()\n",
    "\n",
    "ebit_forecast = []\n",
    "\n",
    "#ebit.index = range(1,5)\n",
    "dep_amt = x.cashflow.loc[\"Depreciation And Amortization\",:].sort_index()\n",
    "\n",
    "sales = x.incomestmt.loc[\"Total Revenue\",:].sort_index()\n",
    "sales"
   ]
  },
  {
   "cell_type": "code",
   "execution_count": null,
   "id": "bcacb573",
   "metadata": {},
   "outputs": [],
   "source": []
  }
 ],
 "metadata": {
  "kernelspec": {
   "display_name": "Python 3 (ipykernel)",
   "language": "python",
   "name": "python3"
  },
  "language_info": {
   "codemirror_mode": {
    "name": "ipython",
    "version": 3
   },
   "file_extension": ".py",
   "mimetype": "text/x-python",
   "name": "python",
   "nbconvert_exporter": "python",
   "pygments_lexer": "ipython3",
   "version": "3.11.4"
  }
 },
 "nbformat": 4,
 "nbformat_minor": 5
}

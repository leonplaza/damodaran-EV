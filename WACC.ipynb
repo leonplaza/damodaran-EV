{
 "cells": [
  {
   "cell_type": "code",
   "execution_count": 1,
   "id": "5194914e",
   "metadata": {},
   "outputs": [],
   "source": [
    "import pandas as pd\n",
    "import numpy as np\n",
    "import yfinance as yf\n",
    "import re"
   ]
  },
  {
   "cell_type": "code",
   "execution_count": 192,
   "id": "af9cc103",
   "metadata": {},
   "outputs": [
    {
     "name": "stderr",
     "output_type": "stream",
     "text": [
      "/Users/leonplaza/miniconda3/lib/python3.11/site-packages/openpyxl/worksheet/_reader.py:329: UserWarning: Data Validation extension is not supported and will be removed\n",
      "  warn(msg)\n"
     ]
    },
    {
     "data": {
      "text/html": [
       "<div>\n",
       "<style scoped>\n",
       "    .dataframe tbody tr th:only-of-type {\n",
       "        vertical-align: middle;\n",
       "    }\n",
       "\n",
       "    .dataframe tbody tr th {\n",
       "        vertical-align: top;\n",
       "    }\n",
       "\n",
       "    .dataframe thead th {\n",
       "        text-align: right;\n",
       "    }\n",
       "</style>\n",
       "<table border=\"1\" class=\"dataframe\">\n",
       "  <thead>\n",
       "    <tr style=\"text-align: right;\">\n",
       "      <th></th>\n",
       "      <th>Africa</th>\n",
       "      <th>Moody's rating</th>\n",
       "      <th>Rating-based Default Spread</th>\n",
       "      <th>Total Equity Risk Premium</th>\n",
       "      <th>Country Risk Premium</th>\n",
       "      <th>Sovereign CDS, net of US</th>\n",
       "      <th>Total Equity Risk Premium2</th>\n",
       "      <th>Country Risk Premium3</th>\n",
       "    </tr>\n",
       "    <tr>\n",
       "      <th>Country</th>\n",
       "      <th></th>\n",
       "      <th></th>\n",
       "      <th></th>\n",
       "      <th></th>\n",
       "      <th></th>\n",
       "      <th></th>\n",
       "      <th></th>\n",
       "      <th></th>\n",
       "    </tr>\n",
       "  </thead>\n",
       "  <tbody>\n",
       "    <tr>\n",
       "      <th>Abu Dhabi</th>\n",
       "      <td>Middle East</td>\n",
       "      <td>Aa2</td>\n",
       "      <td>0.005281</td>\n",
       "      <td>0.05749</td>\n",
       "      <td>0.00749</td>\n",
       "      <td>0.0027</td>\n",
       "      <td>0.053829</td>\n",
       "      <td>0.003829</td>\n",
       "    </tr>\n",
       "    <tr>\n",
       "      <th>Albania</th>\n",
       "      <td>Eastern Europe &amp; Russia</td>\n",
       "      <td>B1</td>\n",
       "      <td>0.048154</td>\n",
       "      <td>0.118298</td>\n",
       "      <td>0.068298</td>\n",
       "      <td>NaN</td>\n",
       "      <td>NaN</td>\n",
       "      <td>NaN</td>\n",
       "    </tr>\n",
       "    <tr>\n",
       "      <th>Andorra (Principality of)</th>\n",
       "      <td>Western Europe</td>\n",
       "      <td>Baa2</td>\n",
       "      <td>0.020368</td>\n",
       "      <td>0.078888</td>\n",
       "      <td>0.028888</td>\n",
       "      <td>NaN</td>\n",
       "      <td>NaN</td>\n",
       "      <td>NaN</td>\n",
       "    </tr>\n",
       "    <tr>\n",
       "      <th>Angola</th>\n",
       "      <td>Africa</td>\n",
       "      <td>B3</td>\n",
       "      <td>0.069528</td>\n",
       "      <td>0.148613</td>\n",
       "      <td>0.098613</td>\n",
       "      <td>0.1004</td>\n",
       "      <td>0.192399</td>\n",
       "      <td>0.142399</td>\n",
       "    </tr>\n",
       "    <tr>\n",
       "      <th>Argentina</th>\n",
       "      <td>Central and South America</td>\n",
       "      <td>Ca</td>\n",
       "      <td>0.128369</td>\n",
       "      <td>0.232068</td>\n",
       "      <td>0.182068</td>\n",
       "      <td>NaN</td>\n",
       "      <td>NaN</td>\n",
       "      <td>NaN</td>\n",
       "    </tr>\n",
       "    <tr>\n",
       "      <th>...</th>\n",
       "      <td>...</td>\n",
       "      <td>...</td>\n",
       "      <td>...</td>\n",
       "      <td>...</td>\n",
       "      <td>...</td>\n",
       "      <td>...</td>\n",
       "      <td>...</td>\n",
       "      <td>...</td>\n",
       "    </tr>\n",
       "    <tr>\n",
       "      <th>Uruguay</th>\n",
       "      <td>Central and South America</td>\n",
       "      <td>Baa2</td>\n",
       "      <td>0.020368</td>\n",
       "      <td>0.078888</td>\n",
       "      <td>0.028888</td>\n",
       "      <td>0.0052</td>\n",
       "      <td>0.057375</td>\n",
       "      <td>0.007375</td>\n",
       "    </tr>\n",
       "    <tr>\n",
       "      <th>Uzbekistan</th>\n",
       "      <td>Eastern Europe &amp; Russia</td>\n",
       "      <td>Ba3</td>\n",
       "      <td>0.038473</td>\n",
       "      <td>0.104567</td>\n",
       "      <td>0.054567</td>\n",
       "      <td>NaN</td>\n",
       "      <td>NaN</td>\n",
       "      <td>NaN</td>\n",
       "    </tr>\n",
       "    <tr>\n",
       "      <th>Venezuela</th>\n",
       "      <td>Central and South America</td>\n",
       "      <td>C</td>\n",
       "      <td>0.175</td>\n",
       "      <td>0.298205</td>\n",
       "      <td>0.248205</td>\n",
       "      <td>0.1114</td>\n",
       "      <td>0.208</td>\n",
       "      <td>0.158</td>\n",
       "    </tr>\n",
       "    <tr>\n",
       "      <th>Vietnam</th>\n",
       "      <td>Asia</td>\n",
       "      <td>Ba2</td>\n",
       "      <td>0.032187</td>\n",
       "      <td>0.095651</td>\n",
       "      <td>0.045651</td>\n",
       "      <td>0.013</td>\n",
       "      <td>0.068438</td>\n",
       "      <td>0.018438</td>\n",
       "    </tr>\n",
       "    <tr>\n",
       "      <th>Zambia</th>\n",
       "      <td>Africa</td>\n",
       "      <td>Ca</td>\n",
       "      <td>0.128369</td>\n",
       "      <td>0.232068</td>\n",
       "      <td>0.182068</td>\n",
       "      <td>NaN</td>\n",
       "      <td>NaN</td>\n",
       "      <td>NaN</td>\n",
       "    </tr>\n",
       "  </tbody>\n",
       "</table>\n",
       "<p>157 rows × 8 columns</p>\n",
       "</div>"
      ],
      "text/plain": [
       "                                              Africa Moody's rating  \\\n",
       "Country                                                               \n",
       "Abu Dhabi                                Middle East            Aa2   \n",
       "Albania                      Eastern Europe & Russia             B1   \n",
       "Andorra (Principality of)             Western Europe           Baa2   \n",
       "Angola                                        Africa             B3   \n",
       "Argentina                  Central and South America             Ca   \n",
       "...                                              ...            ...   \n",
       "Uruguay                    Central and South America           Baa2   \n",
       "Uzbekistan                   Eastern Europe & Russia            Ba3   \n",
       "Venezuela                  Central and South America              C   \n",
       "Vietnam                                         Asia            Ba2   \n",
       "Zambia                                        Africa             Ca   \n",
       "\n",
       "                          Rating-based Default Spread  \\\n",
       "Country                                                 \n",
       "Abu Dhabi                                    0.005281   \n",
       "Albania                                      0.048154   \n",
       "Andorra (Principality of)                    0.020368   \n",
       "Angola                                       0.069528   \n",
       "Argentina                                    0.128369   \n",
       "...                                               ...   \n",
       "Uruguay                                      0.020368   \n",
       "Uzbekistan                                   0.038473   \n",
       "Venezuela                                       0.175   \n",
       "Vietnam                                      0.032187   \n",
       "Zambia                                       0.128369   \n",
       "\n",
       "                          Total Equity Risk Premium Country Risk Premium  \\\n",
       "Country                                                                    \n",
       "Abu Dhabi                                   0.05749              0.00749   \n",
       "Albania                                    0.118298             0.068298   \n",
       "Andorra (Principality of)                  0.078888             0.028888   \n",
       "Angola                                     0.148613             0.098613   \n",
       "Argentina                                  0.232068             0.182068   \n",
       "...                                             ...                  ...   \n",
       "Uruguay                                    0.078888             0.028888   \n",
       "Uzbekistan                                 0.104567             0.054567   \n",
       "Venezuela                                  0.298205             0.248205   \n",
       "Vietnam                                    0.095651             0.045651   \n",
       "Zambia                                     0.232068             0.182068   \n",
       "\n",
       "                          Sovereign CDS, net of US Total Equity Risk Premium2  \\\n",
       "Country                                                                         \n",
       "Abu Dhabi                                   0.0027                   0.053829   \n",
       "Albania                                        NaN                        NaN   \n",
       "Andorra (Principality of)                      NaN                        NaN   \n",
       "Angola                                      0.1004                   0.192399   \n",
       "Argentina                                      NaN                        NaN   \n",
       "...                                            ...                        ...   \n",
       "Uruguay                                     0.0052                   0.057375   \n",
       "Uzbekistan                                     NaN                        NaN   \n",
       "Venezuela                                   0.1114                      0.208   \n",
       "Vietnam                                      0.013                   0.068438   \n",
       "Zambia                                         NaN                        NaN   \n",
       "\n",
       "                          Country Risk Premium3  \n",
       "Country                                          \n",
       "Abu Dhabi                              0.003829  \n",
       "Albania                                     NaN  \n",
       "Andorra (Principality of)                   NaN  \n",
       "Angola                                 0.142399  \n",
       "Argentina                                   NaN  \n",
       "...                                         ...  \n",
       "Uruguay                                0.007375  \n",
       "Uzbekistan                                  NaN  \n",
       "Venezuela                                 0.158  \n",
       "Vietnam                                0.018438  \n",
       "Zambia                                      NaN  \n",
       "\n",
       "[157 rows x 8 columns]"
      ]
     },
     "execution_count": 192,
     "metadata": {},
     "output_type": "execute_result"
    }
   ],
   "source": [
    "zones = [\"\", \"China\",\"emerg\",\"Europe\",\"Global\",\"India\",\"Japan\",\"Rest\"]\n",
    "\n",
    "def process_df(x):\n",
    "    columns = x.iloc[0,:]\n",
    "    columns.name = \"\"\n",
    "    x.columns = columns\n",
    "    x = x.iloc[1:,:]\n",
    "    x.reset_index(drop=True, names=columns, inplace=True)\n",
    "    x.rename(index={\"6\":\"\"}).head(7)\n",
    "    return x\n",
    "\n",
    "def get_betas(zone=\"\"):\n",
    "    path = \"data_damodaran/discount_rate_estimation/beta_damodaran/totalbeta\" + zone + \".xls\"\n",
    "    x = pd.read_excel(path, sheet_name=None)\n",
    "    x = x[\"Industry Averages\"]\n",
    "    loc = x[x.iloc[:,0] == \"Advertising\"].index.values[0] - 1\n",
    "    x = x.iloc[loc:,:]\n",
    "    x = process_df(x)\n",
    "    x = x.set_index(\"Industry Name\")\n",
    "    return x\n",
    "\n",
    "def get_unleveraged_betas(zone=\"\"):\n",
    "    path = \"data_damodaran/discount_rate_estimation/beta_leverage/beta\" + zone + \".xls\"\n",
    "    x = pd.read_excel(path, sheet_name=None)\n",
    "    x = x[\"Industry Averages\"]\n",
    "    loc = x[x.iloc[:,0] == \"Advertising\"].index.values[0] - 1\n",
    "    x = x.iloc[loc:,:]\n",
    "    x = process_df(x)\n",
    "    x = x.set_index(\"Industry Name\")\n",
    "    return x\n",
    "\n",
    "def get_taxrates(zone=\"\"):\n",
    "    path = \"data_damodaran/discount_rate_estimation/tax/tax_rate_country/taxrate\" + zone + \".xls\"\n",
    "    x = pd.read_excel(path, sheet_name=None)\n",
    "    x = x[\"Industry Averages\"]\n",
    "    loc = x[x.iloc[:,0] == \"Advertising\"].index.values[0] - 1\n",
    "    x = x.iloc[loc:,:]\n",
    "    x = process_df(x)\n",
    "    x = x.set_index(\"Industry name\")\n",
    "    return x\n",
    "\n",
    "def get_wacc(zone=\"\"):\n",
    "    path = \"data_damodaran/discount_rate_estimation/wacc_damodaran/wacc\" + zone + \".xls\"\n",
    "    x = pd.read_excel(path, sheet_name=None)\n",
    "    x = x[\"Industry Averages\"]\n",
    "    loc = x[x.iloc[:,0] == \"Advertising\"].index.values[0] - 1\n",
    "    x = x.iloc[loc:,:]\n",
    "    x = process_df(x)\n",
    "    x = x.set_index(\"Industry Name\")\n",
    "    return x\n",
    "\n",
    "def get_spread_classifier(size=5e9, financial=False):\n",
    "    path = \"data_damodaran/capital_structure/spread_classifiers/ratings.xls\"\n",
    "    x = pd.read_excel(path, sheet_name=None)\n",
    "    x = x[\"Start here Ratings sheet\"]\n",
    "    moody = process_df(x.iloc[16:32,:4])\n",
    "    moody_financefirms = process_df(x.iloc[16:,5:9])\n",
    "    moody_smallfirms = process_df(x.iloc[35:,:4])\n",
    "    \n",
    "    if financial == True:\n",
    "        return moody_financefirms\n",
    "    else:\n",
    "        if size >= 5e9:\n",
    "            return moody\n",
    "        else: \n",
    "            return moody_smallfirms\n",
    "        \n",
    "        \n",
    "def get_10y_tbills():\n",
    "    path = \"data_damodaran/discount_rate_estimation/treasury_bills/histretSP.xls\"\n",
    "    x = pd.read_excel(path, sheet_name=None)\n",
    "    x = x[\"T. Bond yield & return\"]\n",
    "    x = x.iloc[5:,:]\n",
    "    x = process_df(x)\n",
    "    return x\n",
    "\n",
    "def get_moody_spread(x, size=5e9, financial=False):\n",
    "    for i in range(len(get_spread_classifier(size,financial=financial))):\n",
    "        if x <= get_spread_classifier(size,financial=financial).iloc[i,1]:\n",
    "            return get_spread_classifier(size,financial=financial).iloc[i,-1]\n",
    "        else:\n",
    "            continue\n",
    "    return get_spread_classifier(size,financial=financial).iloc[-1,-1]\n",
    "\n",
    "\n",
    "def get_risk_premium():\n",
    "    path = \"data_damodaran/discount_rate_estimation/risk_premium/ctrypremJuly23.xls\"\n",
    "    x = pd.read_excel(path, sheet_name=None)\n",
    "    x = x[\"ERPs by country\"]\n",
    "    x = x.iloc[5:163,:9]\n",
    "    x = process_df(x)\n",
    "    x = x.set_index(\"Country\")\n",
    "    return x\n",
    "\n",
    "\n",
    "get_risk_premium()"
   ]
  },
  {
   "cell_type": "code",
   "execution_count": 134,
   "id": "8ea5966d",
   "metadata": {},
   "outputs": [],
   "source": [
    "x = yf.Ticker(\"NVDA\")\n",
    "x.info.get(\"industry\")\n",
    "\n",
    "sector = \"Semiconductor\""
   ]
  },
  {
   "cell_type": "markdown",
   "id": "a31fa4f8",
   "metadata": {},
   "source": [
    "### Capital Structure"
   ]
  },
  {
   "cell_type": "code",
   "execution_count": 149,
   "id": "edf632a3",
   "metadata": {},
   "outputs": [
    {
     "name": "stdout",
     "output_type": "stream",
     "text": [
      "Debt: 19081000000.0 Equity: 22101000000.0\n"
     ]
    }
   ],
   "source": [
    "E = x.balancesheet.loc[\"Stockholders Equity\",:].iloc[0]\n",
    "D = x.balancesheet.loc[\"Total Liabilities Net Minority Interest\",:].iloc[0]\n",
    "print(\"Debt:\",D,\"Equity:\",E)"
   ]
  },
  {
   "cell_type": "markdown",
   "id": "d61f3cb5",
   "metadata": {},
   "source": [
    "### free-risk rate"
   ]
  },
  {
   "cell_type": "code",
   "execution_count": 214,
   "id": "60eb19b0",
   "metadata": {},
   "outputs": [
    {
     "data": {
      "text/plain": [
       "0.0388"
      ]
     },
     "execution_count": 214,
     "metadata": {},
     "output_type": "execute_result"
    }
   ],
   "source": [
    "rf = get_10y_tbills().iloc[-1,1]\n",
    "rf"
   ]
  },
  {
   "cell_type": "markdown",
   "id": "bbc2edc7",
   "metadata": {},
   "source": [
    "### Rd Damodaran Estimation"
   ]
  },
  {
   "cell_type": "code",
   "execution_count": 215,
   "id": "af3b047b",
   "metadata": {},
   "outputs": [],
   "source": [
    "rd = get_wacc().loc[sector,\"Cost of Debt\"]"
   ]
  },
  {
   "cell_type": "code",
   "execution_count": 216,
   "id": "d06b89e1",
   "metadata": {},
   "outputs": [
    {
     "data": {
      "text/plain": [
       "0.046200000000000005"
      ]
     },
     "execution_count": 216,
     "metadata": {},
     "output_type": "execute_result"
    }
   ],
   "source": [
    "interest = x.incomestmt.loc[\"Interest Expense\",:]\n",
    "ebit = x.incomestmt.loc[\"EBIT\",:]\n",
    "coverage_ratio = ebit / interest\n",
    "\n",
    "coverage_ratio.apply(get_moody_spread)\n",
    "\n",
    "spread = get_moody_spread(coverage_ratio.iloc[-1])\n",
    "spread\n",
    "\n",
    "rd = rf + spread\n",
    "rd "
   ]
  },
  {
   "cell_type": "code",
   "execution_count": null,
   "id": "09c4e7f4",
   "metadata": {},
   "outputs": [],
   "source": []
  },
  {
   "cell_type": "markdown",
   "id": "ddcbad0f",
   "metadata": {},
   "source": [
    "### Re Damodaran Estimation"
   ]
  },
  {
   "cell_type": "code",
   "execution_count": 217,
   "id": "eb6d63ba",
   "metadata": {},
   "outputs": [],
   "source": [
    "re = get_wacc().loc[sector,\"Cost of Equity\"]"
   ]
  },
  {
   "cell_type": "markdown",
   "id": "54c75ff7",
   "metadata": {},
   "source": [
    "## re estimated"
   ]
  },
  {
   "cell_type": "code",
   "execution_count": 218,
   "id": "ca21c7da",
   "metadata": {},
   "outputs": [
    {
     "name": "stderr",
     "output_type": "stream",
     "text": [
      "/Users/leonplaza/miniconda3/lib/python3.11/site-packages/openpyxl/worksheet/_reader.py:329: UserWarning: Data Validation extension is not supported and will be removed\n",
      "  warn(msg)\n"
     ]
    },
    {
     "data": {
      "text/plain": [
       "0.1703842750054868"
      ]
     },
     "execution_count": 218,
     "metadata": {},
     "output_type": "execute_result"
    }
   ],
   "source": [
    "tax_rate = get_taxrates(\"\").loc[sector, \"Average across only money-making companies\"]\n",
    "beta_u = get_unleveraged_betas().loc[sector,\"Unlevered beta\"]\n",
    "beta = beta_u * (1 + (1-tax_rate)*D/E)\n",
    "prm = get_risk_premium().loc[x.info[\"country\"],\"Total Equity Risk Premium\"]\n",
    "\n",
    "re = rf + beta * prm\n",
    "re"
   ]
  },
  {
   "cell_type": "code",
   "execution_count": null,
   "id": "3b69a806",
   "metadata": {},
   "outputs": [],
   "source": []
  },
  {
   "cell_type": "code",
   "execution_count": null,
   "id": "683ce460",
   "metadata": {},
   "outputs": [],
   "source": []
  },
  {
   "cell_type": "code",
   "execution_count": null,
   "id": "14d80c63",
   "metadata": {},
   "outputs": [],
   "source": []
  },
  {
   "cell_type": "markdown",
   "id": "9e58e0e0",
   "metadata": {},
   "source": [
    "## WACC"
   ]
  },
  {
   "cell_type": "code",
   "execution_count": 219,
   "id": "fe869712",
   "metadata": {},
   "outputs": [],
   "source": [
    "def wacc(rd,re,t,E,D):\n",
    "    wacc = rd*(1-t)*(D/(E+D)) + re*(E/(D+E))\n",
    "    return wacc\n",
    "\n"
   ]
  },
  {
   "cell_type": "code",
   "execution_count": 220,
   "id": "8dc20904",
   "metadata": {},
   "outputs": [
    {
     "data": {
      "text/plain": [
       "0.11065939332769223"
      ]
     },
     "execution_count": 220,
     "metadata": {},
     "output_type": "execute_result"
    }
   ],
   "source": [
    "wacc(rd,re,tax_rate,E,D)"
   ]
  },
  {
   "cell_type": "code",
   "execution_count": null,
   "id": "d0334a9c",
   "metadata": {},
   "outputs": [],
   "source": []
  }
 ],
 "metadata": {
  "kernelspec": {
   "display_name": "Python 3 (ipykernel)",
   "language": "python",
   "name": "python3"
  },
  "language_info": {
   "codemirror_mode": {
    "name": "ipython",
    "version": 3
   },
   "file_extension": ".py",
   "mimetype": "text/x-python",
   "name": "python",
   "nbconvert_exporter": "python",
   "pygments_lexer": "ipython3",
   "version": "3.11.4"
  }
 },
 "nbformat": 4,
 "nbformat_minor": 5
}

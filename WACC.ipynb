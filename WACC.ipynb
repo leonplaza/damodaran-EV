{
 "cells": [
  {
   "cell_type": "code",
   "execution_count": 1,
   "id": "dae08281",
   "metadata": {},
   "outputs": [],
   "source": [
    "import pandas as pd\n",
    "import numpy as np\n",
    "import yfinance as yf\n",
    "import re"
   ]
  },
  {
   "cell_type": "code",
   "execution_count": 133,
   "id": "a152682c",
   "metadata": {},
   "outputs": [],
   "source": [
    "zones = [\"\", \"China\",\"emerg\",\"Europe\",\"Global\",\"India\",\"Japan\",\"Rest\"]\n",
    "\n",
    "def process_df(x):\n",
    "    columns = x.iloc[0,:]\n",
    "    columns.name = \"\"\n",
    "    x.columns = columns\n",
    "    x = x.iloc[1:,:]\n",
    "    x.reset_index(drop=True, names=columns, inplace=True)\n",
    "    x.rename(index={\"6\":\"\"}).head(7)\n",
    "    return x\n",
    "\n",
    "def get_betas(zone=\"\"):\n",
    "    path = \"data_damodaran/discount_rate_estimation/beta_damodaran/totalbeta\" + zone + \".xls\"\n",
    "    x = pd.read_excel(path, sheet_name=None)\n",
    "    x = x[\"Industry Averages\"]\n",
    "    loc = x[x.iloc[:,0] == \"Advertising\"].index.values[0] - 1\n",
    "    x = x.iloc[loc:,:]\n",
    "    x = process_df(x)\n",
    "    x = x.set_index(\"Industry Name\")\n",
    "    return x\n",
    "\n",
    "def get_unleveraged_betas(zone=\"\"):\n",
    "    path = \"data_damodaran/discount_rate_estimation/beta_leverage/beta\" + zone + \".xls\"\n",
    "    x = pd.read_excel(path, sheet_name=None)\n",
    "    x = x[\"Industry Averages\"]\n",
    "    loc = x[x.iloc[:,0] == \"Advertising\"].index.values[0] - 1\n",
    "    x = x.iloc[loc:,:]\n",
    "    x = process_df(x)\n",
    "    x = x.set_index(\"Industry Name\")\n",
    "    return x\n",
    "\n",
    "def get_taxrates(zone=\"\"):\n",
    "    path = \"data_damodaran/discount_rate_estimation/tax/tax_rate_country/taxrate\" + zone + \".xls\"\n",
    "    x = pd.read_excel(path, sheet_name=None)\n",
    "    x = x[\"Industry Averages\"]\n",
    "    loc = x[x.iloc[:,0] == \"Advertising\"].index.values[0] - 1\n",
    "    x = x.iloc[loc:,:]\n",
    "    x = process_df(x)\n",
    "    x = x.set_index(\"Industry name\")\n",
    "    return x\n",
    "\n",
    "def get_wacc(zone=\"\"):\n",
    "    path = \"data_damodaran/discount_rate_estimation/wacc_damodaran/wacc\" + zone + \".xls\"\n",
    "    x = pd.read_excel(path, sheet_name=None)\n",
    "    x = x[\"Industry Averages\"]\n",
    "    loc = x[x.iloc[:,0] == \"Advertising\"].index.values[0] - 1\n",
    "    x = x.iloc[loc:,:]\n",
    "    x = process_df(x)\n",
    "    x = x.set_index(\"Industry Name\")\n",
    "    return x\n",
    "\n",
    "def get_spread_classifier(size=5e9, financial=False):\n",
    "    path = \"data_damodaran/capital_structure/spread_classifiers/ratings.xls\"\n",
    "    x = pd.read_excel(path, sheet_name=None)\n",
    "    x = x[\"Start here Ratings sheet\"]\n",
    "    moody = process_df(x.iloc[16:32,:4])\n",
    "    moody_financefirms = process_df(x.iloc[16:,5:9])\n",
    "    moody_smallfirms = process_df(x.iloc[35:,:4])\n",
    "    \n",
    "    if financial == True:\n",
    "        return moody_financefirms\n",
    "    else:\n",
    "        if size >= 5e9:\n",
    "            return moody\n",
    "        else: \n",
    "            return moody_smallfirms\n",
    "        \n",
    "        \n",
    "def get_10y_tbills():\n",
    "    path = \"data_damodaran/discount_rate_estimation/treasury_bills/histretSP.xls\"\n",
    "    x = pd.read_excel(path, sheet_name=None)\n",
    "    x = x[\"T. Bond yield & return\"]\n",
    "    x = x.iloc[5:,:]\n",
    "    x = process_df(x)\n",
    "    return x\n",
    "\n",
    "def get_moody_spread(x, size=5e9, financial=False):\n",
    "    for i in range(len(get_spread_classifier(size,financial=financial))):\n",
    "        if x <= get_spread_classifier(size,financial=financial).iloc[i,1]:\n",
    "            return get_spread_classifier(size,financial=financial).iloc[i,-1]\n",
    "        else:\n",
    "            continue\n",
    "    return get_spread_classifier(size,financial=financial).iloc[-1,-1]"
   ]
  },
  {
   "cell_type": "code",
   "execution_count": 134,
   "id": "0a54bd59",
   "metadata": {},
   "outputs": [],
   "source": [
    "x = yf.Ticker(\"NVDA\")\n",
    "x.info.get(\"industry\")\n",
    "\n",
    "sector = \"Semiconductor\""
   ]
  },
  {
   "cell_type": "markdown",
   "id": "c1a8aa4f",
   "metadata": {},
   "source": [
    "### Capital Structure"
   ]
  },
  {
   "cell_type": "code",
   "execution_count": 149,
   "id": "aa4f02d4",
   "metadata": {},
   "outputs": [
    {
     "name": "stdout",
     "output_type": "stream",
     "text": [
      "Debt: 19081000000.0 Equity: 22101000000.0\n"
     ]
    }
   ],
   "source": [
    "E = x.balancesheet.loc[\"Stockholders Equity\",:].iloc[0]\n",
    "D = x.balancesheet.loc[\"Total Liabilities Net Minority Interest\",:].iloc[0]\n",
    "print(\"Debt:\",D,\"Equity:\",E)"
   ]
  },
  {
   "cell_type": "markdown",
   "id": "cd52e822",
   "metadata": {},
   "source": [
    "### free-risk rate"
   ]
  },
  {
   "cell_type": "code",
   "execution_count": 140,
   "id": "79ba076a",
   "metadata": {},
   "outputs": [],
   "source": [
    "get_10y_tbills()\n",
    "rf = 0.02"
   ]
  },
  {
   "cell_type": "markdown",
   "id": "1336ae82",
   "metadata": {},
   "source": [
    "### Rd Damodaran Estimation"
   ]
  },
  {
   "cell_type": "code",
   "execution_count": 141,
   "id": "88b83d82",
   "metadata": {},
   "outputs": [],
   "source": [
    "rd = get_wacc().loc[sector,\"Cost of Debt\"]"
   ]
  },
  {
   "cell_type": "code",
   "execution_count": 142,
   "id": "a48135f7",
   "metadata": {},
   "outputs": [
    {
     "data": {
      "text/plain": [
       "0.0274"
      ]
     },
     "execution_count": 142,
     "metadata": {},
     "output_type": "execute_result"
    }
   ],
   "source": [
    "interest = x.incomestmt.loc[\"Interest Expense\",:]\n",
    "ebit = x.incomestmt.loc[\"EBIT\",:]\n",
    "coverage_ratio = ebit / interest\n",
    "\n",
    "coverage_ratio.apply(get_moody_spread)\n",
    "\n",
    "spread = get_moody_spread(coverage_ratio.iloc[-1])\n",
    "spread\n",
    "\n",
    "rd = rf + spread\n",
    "rd "
   ]
  },
  {
   "cell_type": "code",
   "execution_count": null,
   "id": "bad07f3e",
   "metadata": {},
   "outputs": [],
   "source": []
  },
  {
   "cell_type": "markdown",
   "id": "72b5b888",
   "metadata": {},
   "source": [
    "### Re Damodaran Estimation"
   ]
  },
  {
   "cell_type": "code",
   "execution_count": 143,
   "id": "7dbeef45",
   "metadata": {},
   "outputs": [],
   "source": [
    "re = get_wacc().loc[sector,\"Cost of Equity\"]"
   ]
  },
  {
   "cell_type": "code",
   "execution_count": 153,
   "id": "cbe4348e",
   "metadata": {},
   "outputs": [],
   "source": [
    "### \n",
    "tax_rate = get_taxrates(\"\").loc[sector, \"Average across only money-making companies\"]\n",
    "beta_u = get_unleveraged_betas().loc[sector,\"Unlevered beta\"]\n",
    "beta = beta_u * (1 + (1-tax_rate)*D/E)"
   ]
  },
  {
   "cell_type": "code",
   "execution_count": 155,
   "id": "0fa438e3",
   "metadata": {},
   "outputs": [
    {
     "data": {
      "text/plain": [
       "2.631685500109736"
      ]
     },
     "execution_count": 155,
     "metadata": {},
     "output_type": "execute_result"
    }
   ],
   "source": [
    "beta_u * (1 + (1-tax_rate)*D/E)\n"
   ]
  },
  {
   "cell_type": "code",
   "execution_count": 156,
   "id": "6c2156a3",
   "metadata": {},
   "outputs": [
    {
     "data": {
      "text/plain": [
       "Industry Name\n",
       "Semiconductor                        1.482488\n",
       "Semiconductor Equip                  1.614426\n",
       "Shipbuilding & Marine                0.730087\n",
       "Shoe                                 1.243617\n",
       "Software (Entertainment)             1.316169\n",
       "Software (Internet)                  1.369908\n",
       "Software (System & Application)      1.373314\n",
       "Steel                                1.105414\n",
       "Telecom (Wireless)                   0.692552\n",
       "Telecom. Equipment                   1.133812\n",
       "Telecom. Services                    0.468573\n",
       "Tobacco                              1.694705\n",
       "Transportation                       0.866489\n",
       "Transportation (Railroads)           0.918688\n",
       "Trucking                             1.162314\n",
       "Utility (General)                    0.408105\n",
       "Utility (Water)                      0.869437\n",
       "Total Market                         0.825787\n",
       "Total Market (without financials)    1.079154\n",
       "Name: Unlevered beta, dtype: object"
      ]
     },
     "execution_count": 156,
     "metadata": {},
     "output_type": "execute_result"
    }
   ],
   "source": [
    "get_unleveraged_betas().loc[sector:,\"Unlevered beta\"]"
   ]
  }
 ],
 "metadata": {
  "kernelspec": {
   "display_name": "Python 3 (ipykernel)",
   "language": "python",
   "name": "python3"
  },
  "language_info": {
   "codemirror_mode": {
    "name": "ipython",
    "version": 3
   },
   "file_extension": ".py",
   "mimetype": "text/x-python",
   "name": "python",
   "nbconvert_exporter": "python",
   "pygments_lexer": "ipython3",
   "version": "3.11.4"
  }
 },
 "nbformat": 4,
 "nbformat_minor": 5
}

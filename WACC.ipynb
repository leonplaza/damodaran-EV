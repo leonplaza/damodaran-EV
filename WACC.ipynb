{
 "cells": [
  {
   "cell_type": "code",
   "execution_count": 250,
   "id": "e7233f1e",
   "metadata": {},
   "outputs": [
    {
     "name": "stderr",
     "output_type": "stream",
     "text": [
      "/Users/leonplaza/miniconda3/lib/python3.11/site-packages/fuzzywuzzy/fuzz.py:11: UserWarning: Using slow pure-python SequenceMatcher. Install python-Levenshtein to remove this warning\n",
      "  warnings.warn('Using slow pure-python SequenceMatcher. Install python-Levenshtein to remove this warning')\n"
     ]
    }
   ],
   "source": [
    "import pandas as pd\n",
    "import numpy as np\n",
    "import yfinance as yf\n",
    "import re\n",
    "from fuzzywuzzy import fuzz\n",
    "from countrygroups import EUROPEAN_UNION"
   ]
  },
  {
   "cell_type": "code",
   "execution_count": 192,
   "id": "e8c8d64a",
   "metadata": {},
   "outputs": [
    {
     "name": "stderr",
     "output_type": "stream",
     "text": [
      "/Users/leonplaza/miniconda3/lib/python3.11/site-packages/openpyxl/worksheet/_reader.py:329: UserWarning: Data Validation extension is not supported and will be removed\n",
      "  warn(msg)\n"
     ]
    },
    {
     "data": {
      "text/html": [
       "<div>\n",
       "<style scoped>\n",
       "    .dataframe tbody tr th:only-of-type {\n",
       "        vertical-align: middle;\n",
       "    }\n",
       "\n",
       "    .dataframe tbody tr th {\n",
       "        vertical-align: top;\n",
       "    }\n",
       "\n",
       "    .dataframe thead th {\n",
       "        text-align: right;\n",
       "    }\n",
       "</style>\n",
       "<table border=\"1\" class=\"dataframe\">\n",
       "  <thead>\n",
       "    <tr style=\"text-align: right;\">\n",
       "      <th></th>\n",
       "      <th>Africa</th>\n",
       "      <th>Moody's rating</th>\n",
       "      <th>Rating-based Default Spread</th>\n",
       "      <th>Total Equity Risk Premium</th>\n",
       "      <th>Country Risk Premium</th>\n",
       "      <th>Sovereign CDS, net of US</th>\n",
       "      <th>Total Equity Risk Premium2</th>\n",
       "      <th>Country Risk Premium3</th>\n",
       "    </tr>\n",
       "    <tr>\n",
       "      <th>Country</th>\n",
       "      <th></th>\n",
       "      <th></th>\n",
       "      <th></th>\n",
       "      <th></th>\n",
       "      <th></th>\n",
       "      <th></th>\n",
       "      <th></th>\n",
       "      <th></th>\n",
       "    </tr>\n",
       "  </thead>\n",
       "  <tbody>\n",
       "    <tr>\n",
       "      <th>Abu Dhabi</th>\n",
       "      <td>Middle East</td>\n",
       "      <td>Aa2</td>\n",
       "      <td>0.005281</td>\n",
       "      <td>0.05749</td>\n",
       "      <td>0.00749</td>\n",
       "      <td>0.0027</td>\n",
       "      <td>0.053829</td>\n",
       "      <td>0.003829</td>\n",
       "    </tr>\n",
       "    <tr>\n",
       "      <th>Albania</th>\n",
       "      <td>Eastern Europe &amp; Russia</td>\n",
       "      <td>B1</td>\n",
       "      <td>0.048154</td>\n",
       "      <td>0.118298</td>\n",
       "      <td>0.068298</td>\n",
       "      <td>NaN</td>\n",
       "      <td>NaN</td>\n",
       "      <td>NaN</td>\n",
       "    </tr>\n",
       "    <tr>\n",
       "      <th>Andorra (Principality of)</th>\n",
       "      <td>Western Europe</td>\n",
       "      <td>Baa2</td>\n",
       "      <td>0.020368</td>\n",
       "      <td>0.078888</td>\n",
       "      <td>0.028888</td>\n",
       "      <td>NaN</td>\n",
       "      <td>NaN</td>\n",
       "      <td>NaN</td>\n",
       "    </tr>\n",
       "    <tr>\n",
       "      <th>Angola</th>\n",
       "      <td>Africa</td>\n",
       "      <td>B3</td>\n",
       "      <td>0.069528</td>\n",
       "      <td>0.148613</td>\n",
       "      <td>0.098613</td>\n",
       "      <td>0.1004</td>\n",
       "      <td>0.192399</td>\n",
       "      <td>0.142399</td>\n",
       "    </tr>\n",
       "    <tr>\n",
       "      <th>Argentina</th>\n",
       "      <td>Central and South America</td>\n",
       "      <td>Ca</td>\n",
       "      <td>0.128369</td>\n",
       "      <td>0.232068</td>\n",
       "      <td>0.182068</td>\n",
       "      <td>NaN</td>\n",
       "      <td>NaN</td>\n",
       "      <td>NaN</td>\n",
       "    </tr>\n",
       "    <tr>\n",
       "      <th>...</th>\n",
       "      <td>...</td>\n",
       "      <td>...</td>\n",
       "      <td>...</td>\n",
       "      <td>...</td>\n",
       "      <td>...</td>\n",
       "      <td>...</td>\n",
       "      <td>...</td>\n",
       "      <td>...</td>\n",
       "    </tr>\n",
       "    <tr>\n",
       "      <th>Uruguay</th>\n",
       "      <td>Central and South America</td>\n",
       "      <td>Baa2</td>\n",
       "      <td>0.020368</td>\n",
       "      <td>0.078888</td>\n",
       "      <td>0.028888</td>\n",
       "      <td>0.0052</td>\n",
       "      <td>0.057375</td>\n",
       "      <td>0.007375</td>\n",
       "    </tr>\n",
       "    <tr>\n",
       "      <th>Uzbekistan</th>\n",
       "      <td>Eastern Europe &amp; Russia</td>\n",
       "      <td>Ba3</td>\n",
       "      <td>0.038473</td>\n",
       "      <td>0.104567</td>\n",
       "      <td>0.054567</td>\n",
       "      <td>NaN</td>\n",
       "      <td>NaN</td>\n",
       "      <td>NaN</td>\n",
       "    </tr>\n",
       "    <tr>\n",
       "      <th>Venezuela</th>\n",
       "      <td>Central and South America</td>\n",
       "      <td>C</td>\n",
       "      <td>0.175</td>\n",
       "      <td>0.298205</td>\n",
       "      <td>0.248205</td>\n",
       "      <td>0.1114</td>\n",
       "      <td>0.208</td>\n",
       "      <td>0.158</td>\n",
       "    </tr>\n",
       "    <tr>\n",
       "      <th>Vietnam</th>\n",
       "      <td>Asia</td>\n",
       "      <td>Ba2</td>\n",
       "      <td>0.032187</td>\n",
       "      <td>0.095651</td>\n",
       "      <td>0.045651</td>\n",
       "      <td>0.013</td>\n",
       "      <td>0.068438</td>\n",
       "      <td>0.018438</td>\n",
       "    </tr>\n",
       "    <tr>\n",
       "      <th>Zambia</th>\n",
       "      <td>Africa</td>\n",
       "      <td>Ca</td>\n",
       "      <td>0.128369</td>\n",
       "      <td>0.232068</td>\n",
       "      <td>0.182068</td>\n",
       "      <td>NaN</td>\n",
       "      <td>NaN</td>\n",
       "      <td>NaN</td>\n",
       "    </tr>\n",
       "  </tbody>\n",
       "</table>\n",
       "<p>157 rows × 8 columns</p>\n",
       "</div>"
      ],
      "text/plain": [
       "                                              Africa Moody's rating  \\\n",
       "Country                                                               \n",
       "Abu Dhabi                                Middle East            Aa2   \n",
       "Albania                      Eastern Europe & Russia             B1   \n",
       "Andorra (Principality of)             Western Europe           Baa2   \n",
       "Angola                                        Africa             B3   \n",
       "Argentina                  Central and South America             Ca   \n",
       "...                                              ...            ...   \n",
       "Uruguay                    Central and South America           Baa2   \n",
       "Uzbekistan                   Eastern Europe & Russia            Ba3   \n",
       "Venezuela                  Central and South America              C   \n",
       "Vietnam                                         Asia            Ba2   \n",
       "Zambia                                        Africa             Ca   \n",
       "\n",
       "                          Rating-based Default Spread  \\\n",
       "Country                                                 \n",
       "Abu Dhabi                                    0.005281   \n",
       "Albania                                      0.048154   \n",
       "Andorra (Principality of)                    0.020368   \n",
       "Angola                                       0.069528   \n",
       "Argentina                                    0.128369   \n",
       "...                                               ...   \n",
       "Uruguay                                      0.020368   \n",
       "Uzbekistan                                   0.038473   \n",
       "Venezuela                                       0.175   \n",
       "Vietnam                                      0.032187   \n",
       "Zambia                                       0.128369   \n",
       "\n",
       "                          Total Equity Risk Premium Country Risk Premium  \\\n",
       "Country                                                                    \n",
       "Abu Dhabi                                   0.05749              0.00749   \n",
       "Albania                                    0.118298             0.068298   \n",
       "Andorra (Principality of)                  0.078888             0.028888   \n",
       "Angola                                     0.148613             0.098613   \n",
       "Argentina                                  0.232068             0.182068   \n",
       "...                                             ...                  ...   \n",
       "Uruguay                                    0.078888             0.028888   \n",
       "Uzbekistan                                 0.104567             0.054567   \n",
       "Venezuela                                  0.298205             0.248205   \n",
       "Vietnam                                    0.095651             0.045651   \n",
       "Zambia                                     0.232068             0.182068   \n",
       "\n",
       "                          Sovereign CDS, net of US Total Equity Risk Premium2  \\\n",
       "Country                                                                         \n",
       "Abu Dhabi                                   0.0027                   0.053829   \n",
       "Albania                                        NaN                        NaN   \n",
       "Andorra (Principality of)                      NaN                        NaN   \n",
       "Angola                                      0.1004                   0.192399   \n",
       "Argentina                                      NaN                        NaN   \n",
       "...                                            ...                        ...   \n",
       "Uruguay                                     0.0052                   0.057375   \n",
       "Uzbekistan                                     NaN                        NaN   \n",
       "Venezuela                                   0.1114                      0.208   \n",
       "Vietnam                                      0.013                   0.068438   \n",
       "Zambia                                         NaN                        NaN   \n",
       "\n",
       "                          Country Risk Premium3  \n",
       "Country                                          \n",
       "Abu Dhabi                              0.003829  \n",
       "Albania                                     NaN  \n",
       "Andorra (Principality of)                   NaN  \n",
       "Angola                                 0.142399  \n",
       "Argentina                                   NaN  \n",
       "...                                         ...  \n",
       "Uruguay                                0.007375  \n",
       "Uzbekistan                                  NaN  \n",
       "Venezuela                                 0.158  \n",
       "Vietnam                                0.018438  \n",
       "Zambia                                      NaN  \n",
       "\n",
       "[157 rows x 8 columns]"
      ]
     },
     "execution_count": 192,
     "metadata": {},
     "output_type": "execute_result"
    }
   ],
   "source": [
    "zones = [\"\", \"China\",\"emerg\",\"Europe\",\"Global\",\"India\",\"Japan\",\"Rest\"]\n",
    "\n",
    "def process_df(x):\n",
    "    columns = x.iloc[0,:]\n",
    "    columns.name = \"\"\n",
    "    x.columns = columns\n",
    "    x = x.iloc[1:,:]\n",
    "    x.reset_index(drop=True, names=columns, inplace=True)\n",
    "    x.rename(index={\"6\":\"\"}).head(7)\n",
    "    return x\n",
    "\n",
    "def get_betas(zone=\"\"):\n",
    "    path = \"data_damodaran/discount_rate_estimation/beta_damodaran/totalbeta\" + zone + \".xls\"\n",
    "    x = pd.read_excel(path, sheet_name=None)\n",
    "    x = x[\"Industry Averages\"]\n",
    "    loc = x[x.iloc[:,0] == \"Advertising\"].index.values[0] - 1\n",
    "    x = x.iloc[loc:,:]\n",
    "    x = process_df(x)\n",
    "    x = x.set_index(\"Industry Name\")\n",
    "    return x\n",
    "\n",
    "def get_unleveraged_betas(zone=\"\"):\n",
    "    path = \"data_damodaran/discount_rate_estimation/beta_leverage/beta\" + zone + \".xls\"\n",
    "    x = pd.read_excel(path, sheet_name=None)\n",
    "    x = x[\"Industry Averages\"]\n",
    "    loc = x[x.iloc[:,0] == \"Advertising\"].index.values[0] - 1\n",
    "    x = x.iloc[loc:,:]\n",
    "    x = process_df(x)\n",
    "    x = x.set_index(\"Industry Name\")\n",
    "    return x\n",
    "\n",
    "def get_taxrates(zone=\"\"):\n",
    "    path = \"data_damodaran/discount_rate_estimation/tax/tax_rate_country/taxrate\" + zone + \".xls\"\n",
    "    x = pd.read_excel(path, sheet_name=None)\n",
    "    x = x[\"Industry Averages\"]\n",
    "    loc = x[x.iloc[:,0] == \"Advertising\"].index.values[0] - 1\n",
    "    x = x.iloc[loc:,:]\n",
    "    x = process_df(x)\n",
    "    x = x.set_index(\"Industry name\")\n",
    "    return x\n",
    "\n",
    "def get_wacc(zone=\"\"):\n",
    "    path = \"data_damodaran/discount_rate_estimation/wacc_damodaran/wacc\" + zone + \".xls\"\n",
    "    x = pd.read_excel(path, sheet_name=None)\n",
    "    x = x[\"Industry Averages\"]\n",
    "    loc = x[x.iloc[:,0] == \"Advertising\"].index.values[0] - 1\n",
    "    x = x.iloc[loc:,:]\n",
    "    x = process_df(x)\n",
    "    x = x.set_index(\"Industry Name\")\n",
    "    return x\n",
    "\n",
    "def get_spread_classifier(size=5e9, financial=False):\n",
    "    path = \"data_damodaran/capital_structure/spread_classifiers/ratings.xls\"\n",
    "    x = pd.read_excel(path, sheet_name=None)\n",
    "    x = x[\"Start here Ratings sheet\"]\n",
    "    moody = process_df(x.iloc[16:32,:4])\n",
    "    moody_financefirms = process_df(x.iloc[16:,5:9])\n",
    "    moody_smallfirms = process_df(x.iloc[35:,:4])\n",
    "    \n",
    "    if financial == True:\n",
    "        return moody_financefirms\n",
    "    else:\n",
    "        if size >= 5e9:\n",
    "            return moody\n",
    "        else: \n",
    "            return moody_smallfirms\n",
    "        \n",
    "        \n",
    "def get_10y_tbills():\n",
    "    path = \"data_damodaran/discount_rate_estimation/treasury_bills/histretSP.xls\"\n",
    "    x = pd.read_excel(path, sheet_name=None)\n",
    "    x = x[\"T. Bond yield & return\"]\n",
    "    x = x.iloc[5:,:]\n",
    "    x = process_df(x)\n",
    "    return x\n",
    "\n",
    "def get_moody_spread(x, size=5e9, financial=False):\n",
    "    for i in range(len(get_spread_classifier(size,financial=financial))):\n",
    "        if x <= get_spread_classifier(size,financial=financial).iloc[i,1]:\n",
    "            return get_spread_classifier(size,financial=financial).iloc[i,-1]\n",
    "        else:\n",
    "            continue\n",
    "    return get_spread_classifier(size,financial=financial).iloc[-1,-1]\n",
    "\n",
    "industries = list(get_capex().index)\n",
    "\n",
    "def get_industry(ticket):\n",
    "    ls = []\n",
    "    ind = yf.Ticker(ticket).info.get(\"industry\")\n",
    "    for i in industries:\n",
    "        ls.append([fuzz.ratio(ind, i),i])\n",
    "    return pd.DataFrame(ls).sort_values(0, ascending=False).iloc[0,1]\n",
    "\n",
    "def get_risk_premium():\n",
    "    path = \"data_damodaran/discount_rate_estimation/risk_premium/ctrypremJuly23.xls\"\n",
    "    x = pd.read_excel(path, sheet_name=None)\n",
    "    x = x[\"ERPs by country\"]\n",
    "    x = x.iloc[5:163,:9]\n",
    "    x = process_df(x)\n",
    "    x = x.set_index(\"Country\")\n",
    "    return x\n",
    "\n",
    "\n",
    "def zones(x):\n",
    "    if x == \"United States\":\n",
    "        return \"\"\n",
    "    if x == \"China\":\n",
    "        return \"China\"\n",
    "    if x == \"Canada\":\n",
    "        return \"emerg\"\n",
    "    if x == \"Australia\":\n",
    "        return \"emerg\"\n",
    "    if x == \"New Zeland\":\n",
    "        return \"emerg\"\n",
    "    if x in EUROPEAN_UNION.names:\n",
    "        return \"Europe\"\n",
    "    if x == \"India\":\n",
    "        return \"India\"\n",
    "    if x == \"Japan\":\n",
    "        return \"Japan\"\n",
    "    else:\n",
    "        return \"Global\""
   ]
  },
  {
   "cell_type": "code",
   "execution_count": 223,
   "id": "731d7ca9",
   "metadata": {},
   "outputs": [],
   "source": [
    "x = yf.Ticker(\"MSFT\")\n",
    "x.info.get(\"industry\")\n",
    "\n",
    "sector = \"Software (System & Application)\""
   ]
  },
  {
   "cell_type": "markdown",
   "id": "e1d2bfea",
   "metadata": {},
   "source": [
    "### Capital Structure"
   ]
  },
  {
   "cell_type": "code",
   "execution_count": 224,
   "id": "ee2640c9",
   "metadata": {},
   "outputs": [
    {
     "name": "stdout",
     "output_type": "stream",
     "text": [
      "Debt: 205753000000.0 Equity: 206223000000.0\n"
     ]
    }
   ],
   "source": [
    "E = x.balancesheet.loc[\"Stockholders Equity\",:].iloc[0]\n",
    "D = x.balancesheet.loc[\"Total Liabilities Net Minority Interest\",:].iloc[0]\n",
    "print(\"Debt:\",D,\"Equity:\",E)"
   ]
  },
  {
   "cell_type": "markdown",
   "id": "ad29165f",
   "metadata": {},
   "source": [
    "### free-risk rate"
   ]
  },
  {
   "cell_type": "code",
   "execution_count": 225,
   "id": "bf42f190",
   "metadata": {},
   "outputs": [
    {
     "data": {
      "text/plain": [
       "0.0388"
      ]
     },
     "execution_count": 225,
     "metadata": {},
     "output_type": "execute_result"
    }
   ],
   "source": [
    "rf = get_10y_tbills().iloc[-1,1]\n",
    "rf"
   ]
  },
  {
   "cell_type": "markdown",
   "id": "4242a369",
   "metadata": {},
   "source": [
    "### Rd Damodaran Estimation"
   ]
  },
  {
   "cell_type": "code",
   "execution_count": 226,
   "id": "2654623e",
   "metadata": {},
   "outputs": [],
   "source": [
    "rd = get_wacc().loc[sector,\"Cost of Debt\"]"
   ]
  },
  {
   "cell_type": "code",
   "execution_count": 229,
   "id": "903b7655",
   "metadata": {},
   "outputs": [],
   "source": [
    "interest = x.incomestmt.loc[\"Interest Expense\",:]\n",
    "ebit = x.incomestmt.loc[\"EBIT\",:]\n",
    "coverage_ratio = ebit / interest\n",
    "spread = get_moody_spread(coverage_ratio.iloc[-1])\n",
    "rd = rf + spread"
   ]
  },
  {
   "cell_type": "code",
   "execution_count": null,
   "id": "aeae1256",
   "metadata": {},
   "outputs": [],
   "source": []
  },
  {
   "cell_type": "markdown",
   "id": "bc582de7",
   "metadata": {},
   "source": [
    "### Re Damodaran Estimation"
   ]
  },
  {
   "cell_type": "code",
   "execution_count": 230,
   "id": "1c16b909",
   "metadata": {},
   "outputs": [],
   "source": [
    "re = get_wacc().loc[sector,\"Cost of Equity\"]"
   ]
  },
  {
   "cell_type": "markdown",
   "id": "1ad0938a",
   "metadata": {},
   "source": [
    "## re estimated"
   ]
  },
  {
   "cell_type": "code",
   "execution_count": 233,
   "id": "534df47e",
   "metadata": {},
   "outputs": [
    {
     "name": "stderr",
     "output_type": "stream",
     "text": [
      "/Users/leonplaza/miniconda3/lib/python3.11/site-packages/openpyxl/worksheet/_reader.py:329: UserWarning: Data Validation extension is not supported and will be removed\n",
      "  warn(msg)\n"
     ]
    },
    {
     "data": {
      "text/plain": [
       "0.16379378377367954"
      ]
     },
     "execution_count": 233,
     "metadata": {},
     "output_type": "execute_result"
    }
   ],
   "source": [
    "tax_rate = get_taxrates(\"\").loc[sector, \"Average across only money-making companies\"]\n",
    "beta_u = get_unleveraged_betas().loc[sector,\"Unlevered beta\"]\n",
    "beta = beta_u * (1 + (1-tax_rate)*D/E)\n",
    "prm = get_risk_premium().loc[x.info[\"country\"],\"Total Equity Risk Premium\"]\n",
    "re = rf + beta * prm"
   ]
  },
  {
   "cell_type": "code",
   "execution_count": 239,
   "id": "ffc74f46",
   "metadata": {},
   "outputs": [
    {
     "data": {
      "text/plain": [
       "2.4998756754735902"
      ]
     },
     "execution_count": 239,
     "metadata": {},
     "output_type": "execute_result"
    }
   ],
   "source": [
    "get_unleveraged_betas()\n",
    "beta"
   ]
  },
  {
   "cell_type": "markdown",
   "id": "0908f24a",
   "metadata": {},
   "source": [
    "## WACC"
   ]
  },
  {
   "cell_type": "code",
   "execution_count": 237,
   "id": "e4b25ac9",
   "metadata": {},
   "outputs": [],
   "source": [
    "def wacc(rd,re,t,E,D):\n",
    "    wacc = rd*(1-t)*(D/(E+D)) + re*(E/(D+E))\n",
    "    return wacc\n",
    "\n"
   ]
  },
  {
   "cell_type": "code",
   "execution_count": 238,
   "id": "14c3e5fa",
   "metadata": {},
   "outputs": [
    {
     "data": {
      "text/plain": [
       "0.10096140142386192"
      ]
     },
     "execution_count": 238,
     "metadata": {},
     "output_type": "execute_result"
    }
   ],
   "source": [
    "wacc(rd,re,tax_rate,E,D)"
   ]
  },
  {
   "cell_type": "code",
   "execution_count": 241,
   "id": "fc13510e",
   "metadata": {},
   "outputs": [
    {
     "name": "stderr",
     "output_type": "stream",
     "text": [
      "/Users/leonplaza/miniconda3/lib/python3.11/site-packages/openpyxl/worksheet/_reader.py:329: UserWarning: Data Validation extension is not supported and will be removed\n",
      "  warn(msg)\n"
     ]
    },
    {
     "data": {
      "text/plain": [
       "0.10096140142386192"
      ]
     },
     "execution_count": 241,
     "metadata": {},
     "output_type": "execute_result"
    }
   ],
   "source": [
    "def wacc(ticket,sector):\n",
    "    E = x.balancesheet.loc[\"Stockholders Equity\",:].iloc[0]\n",
    "    D = x.balancesheet.loc[\"Total Liabilities Net Minority Interest\",:].iloc[0]\n",
    "    \n",
    "    rf = get_10y_tbills().iloc[-1,1]\n",
    "    rd = get_wacc().loc[sector,\"Cost of Debt\"]\n",
    "    \n",
    "    interest = x.incomestmt.loc[\"Interest Expense\",:]\n",
    "    ebit = x.incomestmt.loc[\"EBIT\",:]\n",
    "    coverage_ratio = ebit / interest\n",
    "    spread = get_moody_spread(coverage_ratio.iloc[-1])\n",
    "    rd = rf + spread\n",
    "    \n",
    "    tax_rate = get_taxrates(\"\").loc[sector, \"Average across only money-making companies\"]\n",
    "    beta_u = get_unleveraged_betas().loc[sector,\"Unlevered beta\"]\n",
    "    beta = beta_u * (1 + (1-tax_rate)*D/E)\n",
    "    prm = get_risk_premium().loc[x.info[\"country\"],\"Total Equity Risk Premium\"]\n",
    "    re = rf + beta * prm\n",
    "    \n",
    "    wacc = rd*(1-tax_rate)*(D/(E+D)) + re*(E/(D+E))\n",
    "    return wacc\n",
    "\n",
    "wacc(\"MSFT\", \"Software (System & Application)\")\n"
   ]
  },
  {
   "cell_type": "code",
   "execution_count": 249,
   "id": "db7ce1f0",
   "metadata": {},
   "outputs": [
    {
     "name": "stderr",
     "output_type": "stream",
     "text": [
      "/Users/leonplaza/miniconda3/lib/python3.11/site-packages/openpyxl/worksheet/_reader.py:329: UserWarning: Data Validation extension is not supported and will be removed\n",
      "  warn(msg)\n"
     ]
    },
    {
     "data": {
      "text/plain": [
       "0.06054345154047184"
      ]
     },
     "execution_count": 249,
     "metadata": {},
     "output_type": "execute_result"
    }
   ],
   "source": [
    "def wacc(ticket,sector):\n",
    "    E = x.balancesheet.loc[\"Stockholders Equity\",:].iloc[0]\n",
    "    D = x.balancesheet.loc[\"Total Liabilities Net Minority Interest\",:].iloc[0]\n",
    "    \n",
    "    rf = get_10y_tbills().iloc[-1,1]\n",
    "    rd = get_wacc().loc[sector,\"Cost of Debt\"]\n",
    "    \n",
    "    interest = x.incomestmt.loc[\"Interest Expense\",:]\n",
    "    ebit = x.incomestmt.loc[\"EBIT\",:]\n",
    "    coverage_ratio = ebit / interest\n",
    "    spread = get_moody_spread(coverage_ratio.iloc[-1])\n",
    "    rd = rf + spread\n",
    "    \n",
    "    tax_rate = get_taxrates(\"\").loc[sector, \"Average across only money-making companies\"]\n",
    "    beta = x.info.get(\"beta\")\n",
    "    prm = get_risk_premium().loc[x.info[\"country\"],\"Total Equity Risk Premium\"]\n",
    "    re = rf + beta * prm\n",
    "    \n",
    "    wacc = rd*(1-tax_rate)*(D/(E+D)) + re*(E/(D+E))\n",
    "    return wacc\n",
    "\n",
    "wacc(\"MSFT\", \"Software (System & Application)\")"
   ]
  },
  {
   "cell_type": "code",
   "execution_count": 248,
   "id": "04afbfd7",
   "metadata": {},
   "outputs": [
    {
     "data": {
      "text/plain": [
       "0.885"
      ]
     },
     "execution_count": 248,
     "metadata": {},
     "output_type": "execute_result"
    }
   ],
   "source": []
  }
 ],
 "metadata": {
  "kernelspec": {
   "display_name": "Python 3 (ipykernel)",
   "language": "python",
   "name": "python3"
  },
  "language_info": {
   "codemirror_mode": {
    "name": "ipython",
    "version": 3
   },
   "file_extension": ".py",
   "mimetype": "text/x-python",
   "name": "python",
   "nbconvert_exporter": "python",
   "pygments_lexer": "ipython3",
   "version": "3.11.4"
  }
 },
 "nbformat": 4,
 "nbformat_minor": 5
}
